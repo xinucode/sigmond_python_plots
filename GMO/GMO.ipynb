{
 "cells": [
  {
   "cell_type": "code",
   "execution_count": 1,
   "metadata": {},
   "outputs": [],
   "source": [
    "import numpy as np\n",
    "import h5py\n",
    "import os, sys\n",
    "import pandas as pd\n",
    "import matplotlib.pyplot as plt\n",
    "from matplotlib import image as mpimg\n",
    "import yaml\n",
    "import argparse\n",
    "\n",
    "sys.path.append('../')\n",
    "import utils\n",
    "import settings\n",
    "plt.style.use('../spectrum.mplstyle')"
   ]
  },
  {
   "cell_type": "code",
   "execution_count": 2,
   "metadata": {},
   "outputs": [],
   "source": [
    "def T(L, S, N, X):\n",
    "    return L+S/3.0-2.0*N/3.0-2.0*X/3.0"
   ]
  },
  {
   "cell_type": "code",
   "execution_count": 3,
   "metadata": {},
   "outputs": [
    {
     "data": {
      "text/plain": [
       "<KeysViewHDF5 ['L(0)', 'L(0)_ref', 'N(0)', 'N(0)_ref', 'N(1)', 'N(1)_ref', 'N(2)', 'N(2)_ref', 'N(3)', 'N(3)_ref', 'S(0)', 'S(0)_ref', 'S(1)', 'S(1)_ref', 'S(2)', 'S(2)_ref', 'S(3)', 'S(3)_ref', 'X(0)', 'X(0)_ref', 'k(0)', 'k(0)_ref', 'k(1)', 'k(1)_ref', 'k(2)', 'k(2)_ref', 'k(3)', 'k(3)_ref', 'k(4)', 'k(4)_ref', 'pi(0)', 'pi(0)_ref', 'pi(1)', 'pi(1)_ref', 'pi(2)', 'pi(2)_ref', 'pi(3)', 'pi(3)_ref', 'ref']>"
      ]
     },
     "execution_count": 3,
     "metadata": {},
     "output_type": "execute_result"
    }
   ],
   "source": [
    "d200_data = h5py.File(\"energy_samplings_isosinglet_strange_fermionic_rebin10-1exp.hdf5\",'r') #single exp\n",
    "# d200_data = h5py.File(\"energy_samplings_isosinglet_strange_fermionic_rebin10-2exp.hdf5\",'r') #double exp\n",
    "d200_data['single_hadrons'].keys()"
   ]
  },
  {
   "cell_type": "code",
   "execution_count": 4,
   "metadata": {},
   "outputs": [],
   "source": [
    "Lamda = d200_data['single_hadrons']['L(0)'][()]\n",
    "Sigma = d200_data['single_hadrons']['S(0)'][()]\n",
    "Nucleon = d200_data['single_hadrons']['N(0)'][()]\n",
    "Xi = d200_data['single_hadrons']['X(0)'][()]\n",
    "Lamda_ref = d200_data['single_hadrons']['L(0)_ref'][()]\n",
    "Sigma_ref = d200_data['single_hadrons']['S(0)_ref'][()]\n",
    "Nucleon_ref = d200_data['single_hadrons']['N(0)_ref'][()]\n",
    "Xi_ref = d200_data['single_hadrons']['X(0)_ref'][()]"
   ]
  },
  {
   "cell_type": "code",
   "execution_count": 5,
   "metadata": {},
   "outputs": [],
   "source": [
    "d200_data.close()"
   ]
  },
  {
   "cell_type": "code",
   "execution_count": 6,
   "metadata": {},
   "outputs": [
    {
     "name": "stdout",
     "output_type": "stream",
     "text": [
      "T = 0.0026810691394922315 +- 0.002408234119895123\n"
     ]
    }
   ],
   "source": [
    "aT_samples = T(Lamda,Sigma,Nucleon,Xi)\n",
    "aT_val = aT_samples[0]\n",
    "aT_err = utils.bootstrap_error_by_array(aT_samples)\n",
    "print(rf\"T = {aT_val} +- {aT_err}\")"
   ]
  },
  {
   "cell_type": "code",
   "execution_count": 7,
   "metadata": {},
   "outputs": [
    {
     "name": "stdout",
     "output_type": "stream",
     "text": [
      "T = 0.040540016125675926 +- 0.03639176698652964\n"
     ]
    }
   ],
   "source": [
    "Tpi_samples = T(Lamda_ref,Sigma_ref,Nucleon_ref,Xi_ref)\n",
    "Tpi_val = Tpi_samples[0]\n",
    "Tpi_err = utils.bootstrap_error_by_array(Tpi_samples)\n",
    "print(rf\"T = {Tpi_val} +- {Tpi_err}\")"
   ]
  },
  {
   "cell_type": "code",
   "execution_count": null,
   "metadata": {},
   "outputs": [],
   "source": [
    "d200_gmo_sim_fit_data"
   ]
  }
 ],
 "metadata": {
  "kernelspec": {
   "display_name": "Python 3",
   "language": "python",
   "name": "python3"
  },
  "language_info": {
   "codemirror_mode": {
    "name": "ipython",
    "version": 3
   },
   "file_extension": ".py",
   "mimetype": "text/x-python",
   "name": "python",
   "nbconvert_exporter": "python",
   "pygments_lexer": "ipython3",
   "version": "3.8.5"
  }
 },
 "nbformat": 4,
 "nbformat_minor": 4
}
