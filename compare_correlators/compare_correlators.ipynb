{
 "cells": [
  {
   "cell_type": "code",
   "execution_count": 1,
   "metadata": {},
   "outputs": [],
   "source": [
    "import numpy as np\n",
    "import h5py\n",
    "import os, sys\n",
    "import pandas as pd\n",
    "import matplotlib.pyplot as plt\n",
    "from matplotlib import image as mpimg\n",
    "import yaml\n",
    "import argparse\n",
    "import itertools\n",
    "import xml.etree.ElementTree as ET\n",
    "\n",
    "sys.path.append('../')\n",
    "import utils\n",
    "import settings\n",
    "plt.style.use('../spectrum.mplstyle')"
   ]
  },
  {
   "cell_type": "raw",
   "metadata": {},
   "source": [
    "def collectDiagonalRealCorrelatorAtTime(data_object, corr_str, time):\n",
    "    corr_key = f\"<MCObservable><CorrT>GI{{{corr_str}}} GI{{{corr_str}}} time={time} HermMat<|CorrT><Arg>Re<|Arg><|MCObservable>\"\n",
    "    return data_object['rotated_correlators']['Values'][corr_key][()]\n",
    "def collectCorrEstimates(data_object, corr_str):\n",
    "    t = []\n",
    "    values = []\n",
    "    errs = []\n",
    "    for i in range(64):\n",
    "        try:\n",
    "            this_corrt = collectDiagonalRealCorrelatorAtTime(data_object,corr_str,i)\n",
    "            t.append(i)\n",
    "            values.append(this_corrt[0])\n",
    "            errs.append(utils.bootstrap_error_by_array(this_corrt))\n",
    "        except:\n",
    "            pass\n",
    "        \n",
    "    return t, values, errs\n",
    "\n",
    "def collectEnergyEstimates(data_object, corr_str):\n",
    "    t = []\n",
    "    values = []\n",
    "    errs = []\n",
    "    for i in range(63):\n",
    "        try:\n",
    "            this_corrt = collectDiagonalRealCorrelatorAtTime(data_object,corr_str,i)\n",
    "            this_corrt2 = collectDiagonalRealCorrelatorAtTime(data_object,corr_str,i+1)\n",
    "            new_t, this_effE = utils.effenergy(np.array([i,i+1]),np.array([this_corrt,this_corrt2]))\n",
    "            if not np.isnan([this_effE[0][0]])[0] and not np.isnan([utils.bootstrap_error_by_array(this_effE[0])])[0]:\n",
    "                t.append(new_t[0])\n",
    "                values.append(this_effE[0][0])\n",
    "                errs.append(utils.bootstrap_error_by_array(this_effE[0]))\n",
    "        except:\n",
    "            pass\n",
    "        \n",
    "    return t, values, errs"
   ]
  },
  {
   "cell_type": "raw",
   "metadata": {},
   "source": [
    "files = {\n",
    "#     \"Single Pivot n4 m4 d16\": \"single_pivot\",\n",
    "#     \"Modified Rolling Pivot n4 m4 z16\": \"modified_rolling_pivot\",\n",
    "    \"Traditional Rolling Pivot (fixed rank)\": \"rolling_pivot_4-4-16_v2\",\n",
    "#     \"Traditional Rolling Pivot (falling rank)\": \"rolling_pivot_falling_rank\",\n",
    "#     \"Traditional Rolling Pivot n4 m4 z16\": \"rolling_pivot_4-4-16\",\n",
    "#     \"Traditional Rolling Pivot n4 m8 z16\": \"rolling_pivot_4-8-16\",\n",
    "#     \"Traditional Rolling Pivot n2 m2 z16\": \"rolling_pivot_2-2-16\",\n",
    "#     \"Traditional Rolling Pivot (w=0.6)\": \"rolling_pivot_w60\",\n",
    "}"
   ]
  },
  {
   "cell_type": "code",
   "execution_count": 2,
   "metadata": {},
   "outputs": [],
   "source": [
    "#isosinglet nn\n",
    "files = {\n",
    "    \"Single Pivot n4 m4 d10\": \"isosinglet_nn_4-10\",\n",
    "#     \"Traditional Rolling Pivot\": \"isosinglet_nn_4-10r\",\n",
    "}"
   ]
  },
  {
   "cell_type": "raw",
   "metadata": {},
   "source": [
    "files = {\n",
    "#     \"Single Pivot n3 d7\": os.path.join(\"tetraquarks\",\"rotated_correlators-3_6-notq.hdf5\"),\n",
    "#     \"Single Pivot n4 d8\": os.path.join(\"tetraquarks\",\"rotated_correlators-4_8-notq.hdf5\"),\n",
    "#     \"Rolling Pivot\": os.path.join(\"tetraquarks\",\"rotated_correlators-rolling-notq.hdf5\"),\n",
    "    \"Single Pivot n3 d7\": os.path.join(\"tetraquarks\",\"rotated_correlators-3_6-tq.hdf5\"),\n",
    "    \"Single Pivot n4 d8\": os.path.join(\"tetraquarks\",\"rotated_correlators-4_8-tq.hdf5\"),\n",
    "    \"Rolling Pivot\": os.path.join(\"tetraquarks\",\"rotated_correlators-rolling-tq.hdf5\"),\n",
    "}"
   ]
  },
  {
   "cell_type": "raw",
   "metadata": {},
   "source": [
    "data = {}\n",
    "for pivot in files.keys():\n",
    "    csv_filter = np.array([x.endswith(\"csv\") for x in os.listdir(files[pivot])])\n",
    "    csv_files = np.array(os.listdir(files[pivot]))[csv_filter]\n",
    "    for csv_file in csv_files:\n",
    "        data_tag = csv_file[:-4]\n",
    "        if data_tag not in data.keys():\n",
    "            data[data_tag] = {}\n",
    "        data[data_tag][pivot] = pd.read_csv(os.path.join(files[pivot],csv_file))"
   ]
  },
  {
   "cell_type": "code",
   "execution_count": 3,
   "metadata": {},
   "outputs": [
    {
     "name": "stderr",
     "output_type": "stream",
     "text": [
      "<ipython-input-3-63063ab1ef85>:4: H5pyDeprecationWarning: The default file mode will change to 'r' (read-only) in h5py 3.0. To suppress this warning, pass the mode you need to h5py.File(), or set the global default h5.get_config().default_file_mode, or set the environment variable H5PY_DEFAULT_READONLY=1. Available modes are: 'r', 'r+', 'w', 'w-'/'x', 'a'. See the docs for details.\n",
      "  hdf5_data = h5py.File(os.path.join(files[pivot],\"rotated_correlators.hdf5\"))\n"
     ]
    }
   ],
   "source": [
    "corrs = []\n",
    "for pivot in files.keys():\n",
    "    if os.path.isdir(files[pivot]):\n",
    "        hdf5_data = h5py.File(os.path.join(files[pivot],\"rotated_correlators.hdf5\"))\n",
    "    else:\n",
    "        hdf5_data = h5py.File(files[pivot])\n",
    "    #get all correlator data\n",
    "    for MCObservable in hdf5_data['rotated_correlators']['Values'].keys():\n",
    "        MCObservableTree = ET.fromstring(MCObservable.replace(\"|\",\"/\"))\n",
    "        corr_string = MCObservableTree.find('CorrT').text\n",
    "        sink_str = corr_string.split('{')[1][:-4]\n",
    "        source_str = corr_string.split('}')[1][4:]\n",
    "        if sink_str not in corrs:\n",
    "            corrs.append(sink_str)\n",
    "        if source_str not in corrs:\n",
    "            corrs.append(source_str)\n",
    "    hdf5_data.close()"
   ]
  },
  {
   "cell_type": "code",
   "execution_count": 4,
   "metadata": {},
   "outputs": [
    {
     "data": {
      "text/plain": [
       "['isosinglet S=0 P=(0,0,0) A2g ROT 0',\n",
       " 'isosinglet S=0 P=(0,0,0) A2g ROT 1',\n",
       " 'isosinglet S=0 P=(0,0,0) Eg ROT 0',\n",
       " 'isosinglet S=0 P=(0,0,0) Eg ROT 1',\n",
       " 'isosinglet S=0 P=(0,0,0) T1g ROT 0',\n",
       " 'isosinglet S=0 P=(0,0,0) T1g ROT 1',\n",
       " 'isosinglet S=0 P=(0,0,0) T1g ROT 2',\n",
       " 'isosinglet S=0 P=(0,0,0) T1g ROT 3',\n",
       " 'isosinglet S=0 P=(0,0,0) T1g ROT 4',\n",
       " 'isosinglet S=0 P=(0,0,0) T1g ROT 5',\n",
       " 'isosinglet S=0 P=(0,0,0) T1g ROT 6',\n",
       " 'isosinglet S=0 P=(0,0,0) T1g ROT 7',\n",
       " 'isosinglet S=0 P=(0,0,0) T1u ROT 0',\n",
       " 'isosinglet S=0 P=(0,0,0) T1u ROT 1',\n",
       " 'isosinglet S=0 P=(0,0,0) T1u ROT 2',\n",
       " 'isosinglet S=0 P=(0,0,0) T2g ROT 0',\n",
       " 'isosinglet S=0 P=(0,0,0) T2g ROT 1',\n",
       " 'isosinglet S=0 P=(0,0,0) T2g ROT 2',\n",
       " 'isosinglet S=0 P=(0,0,0) T2g ROT 3',\n",
       " 'isosinglet S=0 PSQ=1 A1 ROT 0',\n",
       " 'isosinglet S=0 PSQ=1 A1 ROT 1',\n",
       " 'isosinglet S=0 PSQ=1 A1 ROT 2',\n",
       " 'isosinglet S=0 PSQ=1 A1 ROT 3',\n",
       " 'isosinglet S=0 PSQ=1 A1 ROT 4',\n",
       " 'isosinglet S=0 PSQ=1 A1 ROT 5',\n",
       " 'isosinglet S=0 PSQ=1 A2 ROT 0',\n",
       " 'isosinglet S=0 PSQ=1 A2 ROT 1',\n",
       " 'isosinglet S=0 PSQ=1 A2 ROT 2',\n",
       " 'isosinglet S=0 PSQ=1 A2 ROT 3',\n",
       " 'isosinglet S=0 PSQ=1 A2 ROT 4',\n",
       " 'isosinglet S=0 PSQ=1 A2 ROT 5',\n",
       " 'isosinglet S=0 PSQ=1 B1 ROT 0',\n",
       " 'isosinglet S=0 PSQ=1 B1 ROT 1',\n",
       " 'isosinglet S=0 PSQ=1 B1 ROT 2',\n",
       " 'isosinglet S=0 PSQ=1 B1 ROT 3',\n",
       " 'isosinglet S=0 PSQ=1 B2 ROT 0',\n",
       " 'isosinglet S=0 PSQ=1 B2 ROT 1',\n",
       " 'isosinglet S=0 PSQ=1 B2 ROT 2',\n",
       " 'isosinglet S=0 PSQ=1 B2 ROT 3',\n",
       " 'isosinglet S=0 PSQ=1 E ROT 0',\n",
       " 'isosinglet S=0 PSQ=1 E ROT 1',\n",
       " 'isosinglet S=0 PSQ=1 E ROT 2',\n",
       " 'isosinglet S=0 PSQ=1 E ROT 3',\n",
       " 'isosinglet S=0 PSQ=1 E ROT 4',\n",
       " 'isosinglet S=0 PSQ=1 E ROT 5',\n",
       " 'isosinglet S=0 PSQ=1 E ROT 6',\n",
       " 'isosinglet S=0 PSQ=1 E ROT 7',\n",
       " 'isosinglet S=0 PSQ=1 E ROT 8',\n",
       " 'isosinglet S=0 PSQ=1 E ROT 9',\n",
       " 'isosinglet S=0 PSQ=2 A1 ROT 0',\n",
       " 'isosinglet S=0 PSQ=2 A1 ROT 1',\n",
       " 'isosinglet S=0 PSQ=2 A1 ROT 2',\n",
       " 'isosinglet S=0 PSQ=2 A1 ROT 3',\n",
       " 'isosinglet S=0 PSQ=2 A1 ROT 4',\n",
       " 'isosinglet S=0 PSQ=2 A1 ROT 5',\n",
       " 'isosinglet S=0 PSQ=2 A2 ROT 0',\n",
       " 'isosinglet S=0 PSQ=2 A2 ROT 1',\n",
       " 'isosinglet S=0 PSQ=2 A2 ROT 2',\n",
       " 'isosinglet S=0 PSQ=2 A2 ROT 3',\n",
       " 'isosinglet S=0 PSQ=2 A2 ROT 4',\n",
       " 'isosinglet S=0 PSQ=2 A2 ROT 5',\n",
       " 'isosinglet S=0 PSQ=2 A2 ROT 6',\n",
       " 'isosinglet S=0 PSQ=2 B1 ROT 0',\n",
       " 'isosinglet S=0 PSQ=2 B1 ROT 1',\n",
       " 'isosinglet S=0 PSQ=2 B1 ROT 2',\n",
       " 'isosinglet S=0 PSQ=2 B1 ROT 3',\n",
       " 'isosinglet S=0 PSQ=2 B1 ROT 4',\n",
       " 'isosinglet S=0 PSQ=2 B1 ROT 5',\n",
       " 'isosinglet S=0 PSQ=2 B1 ROT 6',\n",
       " 'isosinglet S=0 PSQ=2 B1 ROT 7',\n",
       " 'isosinglet S=0 PSQ=2 B1 ROT 8',\n",
       " 'isosinglet S=0 PSQ=2 B2 ROT 0',\n",
       " 'isosinglet S=0 PSQ=2 B2 ROT 1',\n",
       " 'isosinglet S=0 PSQ=2 B2 ROT 2',\n",
       " 'isosinglet S=0 PSQ=2 B2 ROT 3',\n",
       " 'isosinglet S=0 PSQ=2 B2 ROT 4',\n",
       " 'isosinglet S=0 PSQ=2 B2 ROT 5',\n",
       " 'isosinglet S=0 PSQ=2 B2 ROT 6',\n",
       " 'isosinglet S=0 PSQ=2 B2 ROT 7',\n",
       " 'isosinglet S=0 PSQ=2 B2 ROT 8',\n",
       " 'isosinglet S=0 PSQ=2 B2 ROT 9',\n",
       " 'isosinglet S=0 PSQ=3 A1 ROT 0',\n",
       " 'isosinglet S=0 PSQ=3 A1 ROT 1',\n",
       " 'isosinglet S=0 PSQ=3 A1 ROT 2',\n",
       " 'isosinglet S=0 PSQ=3 A1 ROT 3',\n",
       " 'isosinglet S=0 PSQ=3 A1 ROT 4',\n",
       " 'isosinglet S=0 PSQ=3 A2 ROT 0',\n",
       " 'isosinglet S=0 PSQ=3 A2 ROT 1',\n",
       " 'isosinglet S=0 PSQ=3 A2 ROT 2',\n",
       " 'isosinglet S=0 PSQ=3 A2 ROT 3',\n",
       " 'isosinglet S=0 PSQ=3 A2 ROT 4',\n",
       " 'isosinglet S=0 PSQ=3 E ROT 0',\n",
       " 'isosinglet S=0 PSQ=3 E ROT 1',\n",
       " 'isosinglet S=0 PSQ=3 E ROT 2',\n",
       " 'isosinglet S=0 PSQ=3 E ROT 3',\n",
       " 'isosinglet S=0 PSQ=3 E ROT 4',\n",
       " 'isosinglet S=0 PSQ=3 E ROT 5',\n",
       " 'isosinglet S=0 PSQ=3 E ROT 6',\n",
       " 'isosinglet S=0 PSQ=3 E ROT 7',\n",
       " 'isosinglet S=0 PSQ=3 E ROT 8',\n",
       " 'isosinglet S=0 PSQ=4 A2 ROT 0',\n",
       " 'isosinglet S=0 PSQ=4 A2 ROT 1',\n",
       " 'isosinglet S=0 PSQ=4 A2 ROT 2',\n",
       " 'isosinglet S=0 PSQ=4 A2 ROT 3',\n",
       " 'isosinglet S=0 PSQ=4 E ROT 0',\n",
       " 'isosinglet S=0 PSQ=4 E ROT 1',\n",
       " 'isosinglet S=0 PSQ=4 E ROT 2',\n",
       " 'isosinglet S=0 PSQ=4 E ROT 3',\n",
       " 'isosinglet S=0 PSQ=4 E ROT 4',\n",
       " 'isosinglet S=0 PSQ=4 E ROT 5',\n",
       " 'isosinglet S=0 PSQ=4 E ROT 6',\n",
       " 'isosinglet S=0 PSQ=4 E ROT 7']"
      ]
     },
     "execution_count": 4,
     "metadata": {},
     "output_type": "execute_result"
    }
   ],
   "source": [
    "corrs"
   ]
  },
  {
   "cell_type": "raw",
   "metadata": {},
   "source": [
    "f = plt.figure(facecolor=\"white\")\n",
    "f.set_figwidth(16)\n",
    "f.set_figheight(8)\n",
    "for corr in data.keys():\n",
    "    plt.clf()\n",
    "    f.suptitle(corr.replace(\"_\",\" \"))\n",
    "    plt.subplot(1,2,1)\n",
    "    for i, pivot in enumerate(data[corr].keys()):\n",
    "        this_data = data[corr][pivot]\n",
    "        plt.plot( this_data['t'], this_data['value'], label=pivot,  color=settings.colors[i], marker=settings.markers[i], linewidth=0.0 )\n",
    "    plt.legend()\n",
    "    plt.xlabel(\"$t$\")\n",
    "    plt.ylabel(\"$C(t)$\")\n",
    "    plt.subplot(1,2,2)\n",
    "    for i, pivot in enumerate(data[corr].keys()):\n",
    "        this_data = data[corr][pivot]\n",
    "        new_t, new_vals = utils.effenergy( np.array(this_data['t']) , np.array(this_data['value']) )\n",
    "#         print( new_t, new_vals)\n",
    "        plt.plot( new_t, new_vals, label=pivot,  color=settings.colors[i], marker=settings.markers[i], linewidth=0.0 )\n",
    "    plt.legend()\n",
    "    plt.xlabel(\"$t$\")\n",
    "    plt.ylabel(\"$E_{eff}(t)$\")\n",
    "    plt.tight_layout()\n",
    "    plt.savefig(corr+\".png\")"
   ]
  },
  {
   "cell_type": "code",
   "execution_count": 5,
   "metadata": {},
   "outputs": [
    {
     "name": "stderr",
     "output_type": "stream",
     "text": [
      "<ipython-input-5-9609a8759af9>:10: H5pyDeprecationWarning: The default file mode will change to 'r' (read-only) in h5py 3.0. To suppress this warning, pass the mode you need to h5py.File(), or set the global default h5.get_config().default_file_mode, or set the environment variable H5PY_DEFAULT_READONLY=1. Available modes are: 'r', 'r+', 'w', 'w-'/'x', 'a'. See the docs for details.\n",
      "  hdf5_data = h5py.File(os.path.join(files[pivot],\"rotated_correlators.hdf5\"))\n",
      "..\\utils.py:22: RuntimeWarning: invalid value encountered in log\n",
      "  return t[:-1]+0.5*(t[1]-t[0]), np.log( C[:-1]/C[1:] )\n"
     ]
    },
    {
     "data": {
      "image/png": "[encoded data removed]",
      "text/plain": [
       "<Figure size 1152x576 with 2 Axes>"
      ]
     },
     "metadata": {
      "needs_background": "light"
     },
     "output_type": "display_data"
    }
   ],
   "source": [
    "f, (ax1, ax2) = plt.subplots(1,2)\n",
    "f.set_figwidth(16)\n",
    "f.set_figheight(8)\n",
    "for corr in corrs:\n",
    "    ax1.clear()\n",
    "    ax2.clear()\n",
    "    f.suptitle(corr.replace(\"_\",\" \"))\n",
    "    for i,pivot in enumerate(files.keys()):\n",
    "        if os.path.isdir(files[pivot]):\n",
    "            hdf5_data = h5py.File(os.path.join(files[pivot],\"rotated_correlators.hdf5\"))\n",
    "        else:\n",
    "            hdf5_data = h5py.File(files[pivot])\n",
    "#         plt.subplot(1,2,1)\n",
    "        this_t, this_corr, this_err = utils.collectCorrEstimates(hdf5_data,corr)\n",
    "        ax1.errorbar( this_t, this_corr,this_err, label=pivot,  color=settings.colors[i], marker=settings.markers[i], linewidth=0.0, elinewidth=2.0, capsize=5.0 )\n",
    "        ax1.legend()\n",
    "        ax1.set_xlabel(\"$t$\")\n",
    "        ax1.set_ylabel(\"$C(t)$\")\n",
    "#         plt.subplot(1,2,2)\n",
    "        this_t, this_corr, this_err = utils.collectEnergyEstimates(hdf5_data,corr)\n",
    "        ax2.errorbar( this_t, this_corr,this_err, label=pivot,  color=settings.colors[i], marker=settings.markers[i], linewidth=0.0, elinewidth=2.0, capsize=5.0 )\n",
    "        \n",
    "#         this_t, this_corr, this_err = utils.collectEnergyEstimates(hdf5_data,corr,func=2)\n",
    "#         ax2.errorbar( this_t, this_corr,this_err, label=pivot+\"2\",  color=settings.colors[i+3], marker=settings.markers[i+3], linewidth=0.0, elinewidth=2.0, capsize=5.0 )\n",
    "        \n",
    "        \n",
    "        this_t, this_corr, this_err = utils.collectEnergyEstimates(hdf5_data,corr,func=3)\n",
    "        itmax = np.where( np.array(this_err)>this_corr[0] )[0][0]\n",
    "#         print(itmax)\n",
    "        ax2.errorbar( this_t[:itmax], this_corr[:itmax],this_err[:itmax], label=pivot+\"2\",  color=settings.colors[i+3], marker=settings.markers[i+3], linewidth=0.0, elinewidth=2.0, capsize=5.0 )\n",
    "        \n",
    "        ax2.legend()\n",
    "        ax2.set_xlabel(\"$t$\")\n",
    "        ax2.set_ylabel(\"$E_{eff}(t)$\")\n",
    "        hdf5_data.close()\n",
    "    plt.tight_layout()\n",
    "    plt.savefig(corr+\".png\")"
   ]
  },
  {
   "cell_type": "code",
   "execution_count": 6,
   "metadata": {},
   "outputs": [],
   "source": [
    "hdf5_data.close()"
   ]
  },
  {
   "cell_type": "code",
   "execution_count": null,
   "metadata": {},
   "outputs": [],
   "source": []
  }
 ],
 "metadata": {
  "kernelspec": {
   "display_name": "Python 3",
   "language": "python",
   "name": "python3"
  },
  "language_info": {
   "codemirror_mode": {
    "name": "ipython",
    "version": 3
   },
   "file_extension": ".py",
   "mimetype": "text/x-python",
   "name": "python",
   "nbconvert_exporter": "python",
   "pygments_lexer": "ipython3",
   "version": "3.8.5"
  }
 },
 "nbformat": 4,
 "nbformat_minor": 4
}
