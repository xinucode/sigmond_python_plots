{
 "cells": [
  {
   "cell_type": "code",
   "execution_count": 1,
   "metadata": {},
   "outputs": [],
   "source": [
    "import numpy as np\n",
    "import h5py\n",
    "import os, sys\n",
    "import pandas as pd\n",
    "import matplotlib.pyplot as plt\n",
    "from matplotlib import image as mpimg\n",
    "import yaml\n",
    "import argparse\n",
    "import itertools\n",
    "import xml.etree.ElementTree as ET\n",
    "\n",
    "sys.path.append('../')\n",
    "import utils\n",
    "import settings\n",
    "plt.style.use('../spectrum.mplstyle')"
   ]
  },
  {
   "cell_type": "raw",
   "metadata": {},
   "source": [
    "def collectDiagonalRealCorrelatorAtTime(data_object, corr_str, time):\n",
    "    corr_key = f\"<MCObservable><CorrT>GI{{{corr_str}}} GI{{{corr_str}}} time={time} HermMat<|CorrT><Arg>Re<|Arg><|MCObservable>\"\n",
    "    return data_object['rotated_correlators']['Values'][corr_key][()]\n",
    "def collectCorrEstimates(data_object, corr_str):\n",
    "    t = []\n",
    "    values = []\n",
    "    errs = []\n",
    "    for i in range(64):\n",
    "        try:\n",
    "            this_corrt = collectDiagonalRealCorrelatorAtTime(data_object,corr_str,i)\n",
    "            t.append(i)\n",
    "            values.append(this_corrt[0])\n",
    "            errs.append(utils.bootstrap_error_by_array(this_corrt))\n",
    "        except:\n",
    "            pass\n",
    "        \n",
    "    return t, values, errs\n",
    "\n",
    "def collectEnergyEstimates(data_object, corr_str):\n",
    "    t = []\n",
    "    values = []\n",
    "    errs = []\n",
    "    for i in range(63):\n",
    "        try:\n",
    "            this_corrt = collectDiagonalRealCorrelatorAtTime(data_object,corr_str,i)\n",
    "            this_corrt2 = collectDiagonalRealCorrelatorAtTime(data_object,corr_str,i+1)\n",
    "            new_t, this_effE = utils.effenergy(np.array([i,i+1]),np.array([this_corrt,this_corrt2]))\n",
    "            if not np.isnan([this_effE[0][0]])[0] and not np.isnan([utils.bootstrap_error_by_array(this_effE[0])])[0]:\n",
    "                t.append(new_t[0])\n",
    "                values.append(this_effE[0][0])\n",
    "                errs.append(utils.bootstrap_error_by_array(this_effE[0]))\n",
    "        except:\n",
    "            pass\n",
    "        \n",
    "    return t, values, errs"
   ]
  },
  {
   "cell_type": "raw",
   "metadata": {},
   "source": [
    "files = {\n",
    "#     \"Single Pivot n4 m4 d16\": \"single_pivot\",\n",
    "#     \"Modified Rolling Pivot n4 m4 z16\": \"modified_rolling_pivot\",\n",
    "    \"Traditional Rolling Pivot (fixed rank)\": \"rolling_pivot_4-4-16_v2\",\n",
    "#     \"Traditional Rolling Pivot (falling rank)\": \"rolling_pivot_falling_rank\",\n",
    "#     \"Traditional Rolling Pivot n4 m4 z16\": \"rolling_pivot_4-4-16\",\n",
    "#     \"Traditional Rolling Pivot n4 m8 z16\": \"rolling_pivot_4-8-16\",\n",
    "#     \"Traditional Rolling Pivot n2 m2 z16\": \"rolling_pivot_2-2-16\",\n",
    "#     \"Traditional Rolling Pivot (w=0.6)\": \"rolling_pivot_w60\",\n",
    "}"
   ]
  },
  {
   "cell_type": "code",
   "execution_count": 2,
   "metadata": {},
   "outputs": [],
   "source": [
    "# #isosinglet nn\n",
    "# files = {\n",
    "# #     \"Single Pivot n4 m4 d10\": \"isosinglet_nn_4-10\",\n",
    "#     \"Traditional Rolling Pivot\": \"isosinglet_nn_4-10r\",\n",
    "# }"
   ]
  },
  {
   "cell_type": "raw",
   "metadata": {},
   "source": [
    "files = {\n",
    "#     \"Single Pivot n3 d7\": os.path.join(\"tetraquarks\",\"rotated_correlators-3_6-notq.hdf5\"),\n",
    "#     \"Single Pivot n4 d8\": os.path.join(\"tetraquarks\",\"rotated_correlators-4_8-notq.hdf5\"),\n",
    "#     \"Rolling Pivot\": os.path.join(\"tetraquarks\",\"rotated_correlators-rolling-notq.hdf5\"),\n",
    "    \"Single Pivot n3 d7\": os.path.join(\"tetraquarks\",\"rotated_correlators-3_6-tq.hdf5\"),\n",
    "    \"Single Pivot n4 d8\": os.path.join(\"tetraquarks\",\"rotated_correlators-4_8-tq.hdf5\"),\n",
    "    \"Rolling Pivot\": os.path.join(\"tetraquarks\",\"rotated_correlators-rolling-tq.hdf5\"),\n",
    "}"
   ]
  },
  {
   "cell_type": "raw",
   "metadata": {},
   "source": [
    "files = { \"unrotated\": os.path.join(\"stringBean-sigma_test\", \"correlators.hdf5\"),\n",
    "           \"rotated\": os.path.join(\"stringBean-sigma_test\", \"rotated_correlators.hdf5\") }"
   ]
  },
  {
   "cell_type": "raw",
   "metadata": {},
   "source": [
    "files = { \"unrotated\": os.path.join(\"D200_isodoublet_npi\", \"correlators.hdf5\"),\n",
    "           \"rotated\": os.path.join(\"D200_isodoublet_npi\", \"rotated_correlators.hdf5\") }"
   ]
  },
  {
   "cell_type": "code",
   "execution_count": 3,
   "metadata": {},
   "outputs": [],
   "source": [
    "files = { \"unrotated\": os.path.join(\"D200_isoquartet_npi\", \"correlators.hdf5\"),\n",
    "           \"rotated\": os.path.join(\"D200_isoquartet_npi\", \"rotated_correlators.hdf5\") }"
   ]
  },
  {
   "cell_type": "raw",
   "metadata": {},
   "source": [
    "data = {}\n",
    "for pivot in files.keys():\n",
    "    csv_filter = np.array([x.endswith(\"csv\") for x in os.listdir(files[pivot])])\n",
    "    csv_files = np.array(os.listdir(files[pivot]))[csv_filter]\n",
    "    for csv_file in csv_files:\n",
    "        data_tag = csv_file[:-4]\n",
    "        if data_tag not in data.keys():\n",
    "            data[data_tag] = {}\n",
    "        data[data_tag][pivot] = pd.read_csv(os.path.join(files[pivot],csv_file))"
   ]
  },
  {
   "cell_type": "code",
   "execution_count": 4,
   "metadata": {},
   "outputs": [],
   "source": [
    "corrs = []\n",
    "for pivot in files.keys():\n",
    "    if os.path.isdir(files[pivot]):\n",
    "        hdf5_file = os.path.join(files[pivot],\"rotated_correlators.hdf5\")\n",
    "    else:\n",
    "        hdf5_file = files[pivot]\n",
    "    #get all correlator data\n",
    "    with h5py.File(hdf5_file,\"r\") as hdf5_data:\n",
    "        roots = list(hdf5_data.keys())\n",
    "        roots.remove(\"Info\")\n",
    "        for root in roots:\n",
    "            for MCObservable in hdf5_data[root]['Values'].keys():\n",
    "                MCObservableTree = ET.fromstring(MCObservable.replace(\"|\",\"/\"))\n",
    "                corr_string = MCObservableTree.find('CorrT').text\n",
    "                sink_str = corr_string.split('{')[1][:-4]\n",
    "                source_str = corr_string.split('}')[1][4:]\n",
    "                if sink_str not in corrs:\n",
    "                    corrs.append(sink_str)\n",
    "                if source_str not in corrs:\n",
    "                    corrs.append(source_str)\n"
   ]
  },
  {
   "cell_type": "code",
   "execution_count": 5,
   "metadata": {},
   "outputs": [
    {
     "data": {
      "text/plain": [
       "['isoquartet S=0 PSQ=3 F1 D[SS0] 0',\n",
       " 'isoquartet S=0 PSQ=3 F1 P[1_A2m_SS1]N[2_G_SS0] 0',\n",
       " 'isoquartet S=0 PSQ=3 F1 P[2_A2m_SS0]N[1_G1_SS0] 0',\n",
       " 'isoquartet S=0 PSQ=3 F2 D[SS0] 0',\n",
       " 'isoquartet S=0 PSQ=3 F2 P[1_A2m_SS1]N[2_G_SS0] 0',\n",
       " 'isoquartet S=0 PSQ=3 F2 P[2_A2m_SS0]N[1_G1_SS0] 0',\n",
       " 'isoquartet S=0 PSQ=1 G1 D[SS0] 0',\n",
       " 'isoquartet S=0 PSQ=1 G1 P[0_A1um_SS0]N[1_G1_SS0] 0',\n",
       " 'isoquartet S=0 PSQ=1 G1 P[1_A2m_SS1]N[0_G1g_SS0] 0',\n",
       " 'isoquartet S=0 PSQ=1 G1 P[1_A2m_SS1]N[2_G_SS0] 0',\n",
       " 'isoquartet S=0 PSQ=1 G1 P[1_A2m_SS1]N[2_G_SS0] 1',\n",
       " 'isoquartet S=0 PSQ=1 G1 P[2_A2m_SS0]N[1_G1_SS0] 0',\n",
       " 'isoquartet S=0 PSQ=1 G1 P[2_A2m_SS0]N[1_G1_SS0] 1',\n",
       " 'isoquartet S=0 PSQ=4 G1 D[SS0] 0',\n",
       " 'isoquartet S=0 PSQ=4 G1 P[0_A1um_SS0]N[4_G1_SS0] 0',\n",
       " 'isoquartet S=0 PSQ=4 G1 P[1_A2m_SS1]N[1_G1_SS0] 0',\n",
       " 'isoquartet S=0 PSQ=4 G1 P[2_A2m_SS0]N[2_G_SS0] 0',\n",
       " 'isoquartet S=0 PSQ=4 G1 P[2_A2m_SS0]N[2_G_SS0] 1',\n",
       " 'isoquartet S=0 P=(0,0,0) G1g P[1_A2m_SS1]N[1_G1_SS0] 0',\n",
       " 'isoquartet S=0 P=(0,0,0) G1u P[0_A1umSS0]N[0_G1gSS0] 0',\n",
       " 'isoquartet S=0 P=(0,0,0) G1u P[1_A2m_SS1]N[1_G1_SS0] 0',\n",
       " 'isoquartet S=0 PSQ=1 G2 D[SS0] 0',\n",
       " 'isoquartet S=0 PSQ=1 G2 P[1_A2m_SS1]N[2_G_SS0] 0',\n",
       " 'isoquartet S=0 PSQ=1 G2 P[1_A2m_SS1]N[2_G_SS0] 1',\n",
       " 'isoquartet S=0 PSQ=1 G2 P[2_A2m_SS0]N[1_G1_SS0] 0',\n",
       " 'isoquartet S=0 PSQ=1 G2 P[2_A2m_SS0]N[1_G1_SS0] 1',\n",
       " 'isoquartet S=0 PSQ=4 G2 D[SS0] 0',\n",
       " 'isoquartet S=0 PSQ=4 G2 P[2_A2m_SS0]N[2_G_SS0] 0',\n",
       " 'isoquartet S=0 PSQ=4 G2 P[2_A2m_SS0]N[2_G_SS0] 1',\n",
       " 'isoquartet S=0 PSQ=2 G D[SS0] 0',\n",
       " 'isoquartet S=0 PSQ=2 G D[SS1] 0',\n",
       " 'isoquartet S=0 PSQ=2 G P[0_A1um_SS0]N[2_G_SS0] 0',\n",
       " 'isoquartet S=0 PSQ=2 G P[1_A2m_SS1]N[1_G1_SS0] 0',\n",
       " 'isoquartet S=0 PSQ=2 G P[1_A2m_SS1]N[1_G1_SS0] 1',\n",
       " 'isoquartet S=0 PSQ=2 G P[1_A2m_SS1]N[3_G_SS0] 0',\n",
       " 'isoquartet S=0 PSQ=2 G P[1_A2m_SS1]N[3_G_SS0] 1',\n",
       " 'isoquartet S=0 PSQ=2 G P[2_A2m_SS0]N[0_G1g_SS0] 0',\n",
       " 'isoquartet S=0 PSQ=3 G D[SS1] 0',\n",
       " 'isoquartet S=0 PSQ=3 G P[0_A1um_SS0]N[3_G_SS0] 0',\n",
       " 'isoquartet S=0 PSQ=3 G P[1_A2m_SS1]N[2_G_SS0] 0',\n",
       " 'isoquartet S=0 PSQ=3 G P[1_A2m_SS1]N[2_G_SS0] 1',\n",
       " 'isoquartet S=0 PSQ=3 G P[2_A2m_SS0]N[1_G1_SS0] 0',\n",
       " 'isoquartet S=0 PSQ=3 G P[2_A2m_SS0]N[1_G1_SS0] 1',\n",
       " 'isoquartet S=0 PSQ=3 G P[3_A2m_SS0]N[0_G1g_SS0] 0',\n",
       " 'isoquartet S=0 P=(0,0,0) Hg D[SS0] 0',\n",
       " 'isoquartet S=0 P=(0,0,0) Hg P[1_A2m_SS1]N[1_G1_SS0] 0',\n",
       " 'isoquartet S=0 P=(0,0,0) Hg P[2_A2m_SS0]N[2_G_SS0] 0',\n",
       " 'isoquartet S=0 P=(0,0,0) Hg P[2_A2m_SS0]N[2_G_SS0] 1',\n",
       " 'isoquartet S=0 P=(0,0,0) Hu P[1_A2m_SS1]N[1_G1_SS0] 0',\n",
       " 'isoquartet S=0 PSQ=3 F1 ROT 0',\n",
       " 'isoquartet S=0 PSQ=3 F1 ROT 1',\n",
       " 'isoquartet S=0 PSQ=3 F1 ROT 2',\n",
       " 'isoquartet S=0 PSQ=3 F2 ROT 0',\n",
       " 'isoquartet S=0 PSQ=3 F2 ROT 1',\n",
       " 'isoquartet S=0 PSQ=3 F2 ROT 2',\n",
       " 'isoquartet S=0 PSQ=1 G1 ROT 0',\n",
       " 'isoquartet S=0 PSQ=1 G1 ROT 1',\n",
       " 'isoquartet S=0 PSQ=1 G1 ROT 2',\n",
       " 'isoquartet S=0 PSQ=1 G1 ROT 3',\n",
       " 'isoquartet S=0 PSQ=1 G1 ROT 4',\n",
       " 'isoquartet S=0 PSQ=1 G1 ROT 5',\n",
       " 'isoquartet S=0 PSQ=1 G1 ROT 6',\n",
       " 'isoquartet S=0 PSQ=4 G1 ROT 0',\n",
       " 'isoquartet S=0 PSQ=4 G1 ROT 1',\n",
       " 'isoquartet S=0 PSQ=4 G1 ROT 2',\n",
       " 'isoquartet S=0 PSQ=4 G1 ROT 3',\n",
       " 'isoquartet S=0 PSQ=4 G1 ROT 4',\n",
       " 'isoquartet S=0 P=(0,0,0) G1u ROT 0',\n",
       " 'isoquartet S=0 P=(0,0,0) G1u ROT 1',\n",
       " 'isoquartet S=0 PSQ=1 G2 ROT 0',\n",
       " 'isoquartet S=0 PSQ=1 G2 ROT 1',\n",
       " 'isoquartet S=0 PSQ=1 G2 ROT 2',\n",
       " 'isoquartet S=0 PSQ=1 G2 ROT 3',\n",
       " 'isoquartet S=0 PSQ=1 G2 ROT 4',\n",
       " 'isoquartet S=0 PSQ=4 G2 ROT 0',\n",
       " 'isoquartet S=0 PSQ=4 G2 ROT 1',\n",
       " 'isoquartet S=0 PSQ=4 G2 ROT 2',\n",
       " 'isoquartet S=0 PSQ=2 G ROT 0',\n",
       " 'isoquartet S=0 PSQ=2 G ROT 1',\n",
       " 'isoquartet S=0 PSQ=2 G ROT 2',\n",
       " 'isoquartet S=0 PSQ=2 G ROT 3',\n",
       " 'isoquartet S=0 PSQ=2 G ROT 4',\n",
       " 'isoquartet S=0 PSQ=2 G ROT 5',\n",
       " 'isoquartet S=0 PSQ=2 G ROT 6',\n",
       " 'isoquartet S=0 PSQ=2 G ROT 7',\n",
       " 'isoquartet S=0 PSQ=3 G ROT 0',\n",
       " 'isoquartet S=0 PSQ=3 G ROT 1',\n",
       " 'isoquartet S=0 PSQ=3 G ROT 2',\n",
       " 'isoquartet S=0 PSQ=3 G ROT 3',\n",
       " 'isoquartet S=0 PSQ=3 G ROT 4',\n",
       " 'isoquartet S=0 PSQ=3 G ROT 5',\n",
       " 'isoquartet S=0 PSQ=3 G ROT 6',\n",
       " 'isoquartet S=0 P=(0,0,0) Hg ROT 0',\n",
       " 'isoquartet S=0 P=(0,0,0) Hg ROT 1',\n",
       " 'isoquartet S=0 P=(0,0,0) Hg ROT 2',\n",
       " 'isoquartet S=0 P=(0,0,0) Hg ROT 3']"
      ]
     },
     "execution_count": 5,
     "metadata": {},
     "output_type": "execute_result"
    }
   ],
   "source": [
    "corrs"
   ]
  },
  {
   "cell_type": "raw",
   "metadata": {},
   "source": [
    "plots = {\n",
    "    \"nucleon\": {\n",
    "        'nucleon': 'nucleon P=(0,0,0) G1g_1 SS_0',\n",
    "        'ROT 0': 'isodoublet S=0 P=(0,0,0) G1g_1 ROT 0'\n",
    "    },\n",
    "    \"nucleon_plus\": {\n",
    "        'nucleon': 'nucleon P=(0,0,0) G1g_1 SS_0',\n",
    "        'ROT 0': 'isodoublet S=0 P=(0,0,0) G1g_1 ROT 0',\n",
    "        'isodoublet_eta_nucleon': 'isodoublet_eta_nucleon G1g_1 [P=(0,0,0) A1gp SS_0] [P=(0,0,0) G1g SS_0]',\n",
    "        'isodoublet_phi_nucleon': 'isodoublet_phi_nucleon G1g_1 [P=(0,0,0) A1gp SS_0] [P=(0,0,0) G1g SS_0]'\n",
    "    },\n",
    "    \"kaon\": {\n",
    "        'kaon': 'kaon P=(0,0,0) A1u_1 SS_0', \n",
    "        'ROT 0': 'isodoublet S=1 P=(0,0,0) A1u_1 ROT 0'\n",
    "    },\n",
    "    \"kaon_plus\": {\n",
    "        'kaon': 'kaon P=(0,0,0) A1u_1 SS_0', \n",
    "        'ROT 0': 'isodoublet S=1 P=(0,0,0) A1u_1 ROT 0',\n",
    "        'isodoublet_kaon_eta': 'isodoublet_kaon_eta A1u_1 [P=(0,0,0) A1u SS_0] [P=(0,0,0) A1gp SS_0]',\n",
    "        'isodoublet_kaon_phi': 'isodoublet_kaon_phi A1u_1 [P=(0,0,0) A1u SS_0] [P=(0,0,0) A1gp SS_0]'\n",
    "    },\n",
    "    \"pion\":{\n",
    "        'pion': 'pion P=(0,0,0) A1um_1 SS_0',\n",
    "        'ROT 0': 'isotriplet S=0 P=(0,0,0) A1um_1 ROT 0'\n",
    "    },\n",
    "    \"pion_plus\":{\n",
    "        'pion': 'pion P=(0,0,0) A1um_1 SS_0',\n",
    "        'ROT 0': 'isotriplet S=0 P=(0,0,0) A1um_1 ROT 0',\n",
    "        'isotriplet_eta_pion': 'isotriplet_eta_pion A1um_1 [P=(0,0,0) A1gp SS_0] [P=(0,0,0) A1um SS_0]',\n",
    "        'isotriplet_phi_pion': 'isotriplet_phi_pion A1um_1 [P=(0,0,0) A1gp SS_0] [P=(0,0,0) A1um SS_0]'\n",
    "    },\n",
    "}"
   ]
  },
  {
   "cell_type": "raw",
   "metadata": {},
   "source": [
    "plots = {\n",
    "    \"kaon_ratio\": {\n",
    "        'kaon_eta/kaon': ['isodoublet_kaon_eta A1u_1 [P=(0,0,0) A1u SS_0] [P=(0,0,0) A1gp SS_0]','kaon P=(0,0,0) A1u_1 SS_0'],\n",
    "        'kaon_phi/kaon': ['isodoublet_kaon_phi A1u_1 [P=(0,0,0) A1u SS_0] [P=(0,0,0) A1gp SS_0]','kaon P=(0,0,0) A1u_1 SS_0']\n",
    "    },\n",
    "    \"pion_ratio\": {\n",
    "        'pion_eta/kaon': ['isotriplet_eta_pion A1um_1 [P=(0,0,0) A1gp SS_0] [P=(0,0,0) A1um SS_0]','pion P=(0,0,0) A1um_1 SS_0'],\n",
    "        'pion_phi/kaon': ['isotriplet_phi_pion A1um_1 [P=(0,0,0) A1gp SS_0] [P=(0,0,0) A1um SS_0]','pion P=(0,0,0) A1um_1 SS_0']\n",
    "    },\n",
    "    \"nucleon_ratio\": {\n",
    "        'nucleon_eta/kaon': ['isodoublet_eta_nucleon G1g_1 [P=(0,0,0) A1gp SS_0] [P=(0,0,0) G1g SS_0]','nucleon P=(0,0,0) G1g_1 SS_0'],\n",
    "        'nucleon_phi/kaon': ['isodoublet_phi_nucleon G1g_1 [P=(0,0,0) A1gp SS_0] [P=(0,0,0) G1g SS_0]','nucleon P=(0,0,0) G1g_1 SS_0']\n",
    "    },\n",
    "}"
   ]
  },
  {
   "cell_type": "raw",
   "metadata": {},
   "source": [
    "plots = {\n",
    "    \"kaon_eta_ratio\": {\n",
    "        'kaon_eta/kaon': ['isodoublet_kaon_eta A1u_1 [P=(0,0,0) A1u SS_0] [P=(0,0,0) A1gp SS_0]','kaon P=(0,0,0) A1u_1 SS_0'],\n",
    "    },\n",
    "    \"kaon_phi_ratio\": {\n",
    "        'kaon_phi/kaon': ['isodoublet_kaon_phi A1u_1 [P=(0,0,0) A1u SS_0] [P=(0,0,0) A1gp SS_0]','kaon P=(0,0,0) A1u_1 SS_0']\n",
    "    },\n",
    "    \"pion_eta_ratio\": {\n",
    "        'pion_eta/kaon': ['isotriplet_eta_pion A1um_1 [P=(0,0,0) A1gp SS_0] [P=(0,0,0) A1um SS_0]','pion P=(0,0,0) A1um_1 SS_0'],\n",
    "    },\n",
    "    \"pion_phi_ratio\": {\n",
    "        'pion_phi/kaon': ['isotriplet_phi_pion A1um_1 [P=(0,0,0) A1gp SS_0] [P=(0,0,0) A1um SS_0]','pion P=(0,0,0) A1um_1 SS_0']\n",
    "    },\n",
    "    \"nucleon_eta_ratio\": {\n",
    "        'nucleon_eta/kaon': ['isodoublet_eta_nucleon G1g_1 [P=(0,0,0) A1gp SS_0] [P=(0,0,0) G1g SS_0]','nucleon P=(0,0,0) G1g_1 SS_0'],\n",
    "    },\n",
    "    \"nucleon_phi_ratio\": {\n",
    "        'nucleon_phi/kaon': ['isodoublet_phi_nucleon G1g_1 [P=(0,0,0) A1gp SS_0] [P=(0,0,0) G1g SS_0]','nucleon P=(0,0,0) G1g_1 SS_0']\n",
    "    },\n",
    "}"
   ]
  },
  {
   "cell_type": "raw",
   "metadata": {},
   "source": [
    "plots = {\n",
    "    r\"$N\\pi$_$I=1/2$_$G(3)$_unrotated_correlators\": {\n",
    "        r'$N$': 'isodoublet S=0 PSQ=3 G N[SS0] 0',\n",
    "        r'$\\pi(0)N(3)$': 'isodoublet S=0 PSQ=3 G P[0_A1um_SS0]N[3_G_SS0] 0',\n",
    "        r'$\\pi(1)N(2)_0$': 'isodoublet S=0 PSQ=3 G P[1_A2m_SS1]N[2_G_SS0] 0',\n",
    "        r'$\\pi(1)N(2)_1$': 'isodoublet S=0 PSQ=3 G P[1_A2m_SS1]N[2_G_SS0] 0',\n",
    "    },\n",
    "    r\"$N\\pi$_$I=1/2$_$G(3)$_rotated_correlators\": {\n",
    "        'ROT 0': 'isodoublet S=0 PSQ=3 G ROT 0',\n",
    "        'ROT 1': 'isodoublet S=0 PSQ=3 G ROT 1',\n",
    "        'ROT 2': 'isodoublet S=0 PSQ=3 G ROT 2',\n",
    "        'ROT 3': 'isodoublet S=0 PSQ=3 G ROT 3'\n",
    "    }\n",
    "}"
   ]
  },
  {
   "cell_type": "code",
   "execution_count": 6,
   "metadata": {},
   "outputs": [],
   "source": [
    "plots = {\n",
    "    r\"$N\\pi$_$I=3/2$_$Hg(0)$_unrotated_correlators\": {\n",
    "        r'$\\Delta$': 'isoquartet S=0 P=(0,0,0) Hg D[SS0] 0',\n",
    "        r'$\\pi(1)N(1)$': 'isoquartet S=0 P=(0,0,0) Hg P[1_A2m_SS1]N[1_G1_SS0] 0',\n",
    "        r'$\\pi(2)N(2)_0$': 'isoquartet S=0 P=(0,0,0) Hg P[2_A2m_SS0]N[2_G_SS0] 0',\n",
    "        r'$\\pi(2)N(2)_1$': 'isoquartet S=0 P=(0,0,0) Hg P[2_A2m_SS0]N[2_G_SS0] 1',\n",
    "    },\n",
    "    r\"$N\\pi$_$I=3/2$_$Hg(0)$_rotated_correlators\": {\n",
    "        'ROT 0': 'isoquartet S=0 P=(0,0,0) Hg ROT 0',\n",
    "        'ROT 1': 'isoquartet S=0 P=(0,0,0) Hg ROT 1',\n",
    "        'ROT 2': 'isoquartet S=0 P=(0,0,0) Hg ROT 2',\n",
    "        'ROT 3': 'isoquartet S=0 P=(0,0,0) Hg ROT 3'\n",
    "    }\n",
    "}"
   ]
  },
  {
   "cell_type": "raw",
   "metadata": {},
   "source": [
    "plots = {}"
   ]
  },
  {
   "cell_type": "code",
   "execution_count": 7,
   "metadata": {},
   "outputs": [],
   "source": [
    "if not plots:\n",
    "    plots = {corr: {corr:corr} for corr in corrs}"
   ]
  },
  {
   "cell_type": "raw",
   "metadata": {},
   "source": [
    "f = plt.figure(facecolor=\"white\")\n",
    "f.set_figwidth(16)\n",
    "f.set_figheight(8)\n",
    "for corr in data.keys():\n",
    "    plt.clf()\n",
    "    f.suptitle(corr.replace(\"_\",\" \"))\n",
    "    plt.subplot(1,2,1)\n",
    "    for i, pivot in enumerate(data[corr].keys()):\n",
    "        this_data = data[corr][pivot]\n",
    "        plt.plot( this_data['t'], this_data['value'], label=pivot,  color=settings.colors[i], marker=settings.markers[i], linewidth=0.0 )\n",
    "    plt.legend()\n",
    "    plt.xlabel(\"$t$\")\n",
    "    plt.ylabel(\"$C(t)$\")\n",
    "    plt.subplot(1,2,2)\n",
    "    for i, pivot in enumerate(data[corr].keys()):\n",
    "        this_data = data[corr][pivot]\n",
    "        new_t, new_vals = utils.effenergy( np.array(this_data['t']) , np.array(this_data['value']) )\n",
    "#         print( new_t, new_vals)\n",
    "        plt.plot( new_t, new_vals, label=pivot,  color=settings.colors[i], marker=settings.markers[i], linewidth=0.0 )\n",
    "    plt.legend()\n",
    "    plt.xlabel(\"$t$\")\n",
    "    plt.ylabel(\"$E_{eff}(t)$\")\n",
    "    plt.tight_layout()\n",
    "    plt.savefig(corr+\".png\")"
   ]
  },
  {
   "cell_type": "code",
   "execution_count": 10,
   "metadata": {},
   "outputs": [
    {
     "name": "stdout",
     "output_type": "stream",
     "text": [
      "Axes(0.2,0.2;0.79x0.79)\n",
      "[1, 2]\n"
     ]
    },
    {
     "name": "stderr",
     "output_type": "stream",
     "text": [
      "<ipython-input-10-96a34bea9206>:76: UserWarning: This figure includes Axes that are not compatible with tight_layout, so results might be incorrect.\n",
      "  fen.savefig(plot.replace('$','').replace('/','').replace('\\\\','')+\"_energies.png\", transparent=True)\n",
      "<ipython-input-10-96a34bea9206>:77: UserWarning: This figure includes Axes that are not compatible with tight_layout, so results might be incorrect.\n",
      "  fen.savefig(plot.replace('$','').replace('/','').replace('\\\\','')+\"_energies.pdf\", transparent=True)\n",
      "No handles with labels found to put in legend.\n",
      "No handles with labels found to put in legend.\n"
     ]
    },
    {
     "data": {
      "image/png": "[encoded data removed]",
      "text/plain": [
       "<Figure size 1152x576 with 2 Axes>"
      ]
     },
     "metadata": {
      "needs_background": "light"
     },
     "output_type": "display_data"
    },
    {
     "data": {
      "image/png": "[encoded data removed]",
      "text/plain": [
       "<Figure size 576x360 with 1 Axes>"
      ]
     },
     "metadata": {
      "needs_background": "light"
     },
     "output_type": "display_data"
    }
   ],
   "source": [
    "f, (ax1, ax2) = plt.subplots(1,2)\n",
    "fen = plt.figure(num=2)\n",
    "axen = fen.add_axes( (0.2,0.2,0.79,0.79) )\n",
    "tmax = 20\n",
    "print(axen)\n",
    "print(plt.get_fignums())\n",
    "for plot in plots:\n",
    "    ax1.clear()\n",
    "    ax2.clear()\n",
    "    axen.clear()\n",
    "    axen.set_autoscale_on(True)\n",
    "    f.set_figwidth(16)\n",
    "    f.set_figheight(8)\n",
    "    fen.set_figwidth(8)\n",
    "    fen.set_figheight(5)\n",
    "    f.suptitle(plot.replace(\"_\",\" \"))\n",
    "#     fen.suptitle(plot.replace(\"_\",\" \"))\n",
    "    f.set_tight_layout(True)\n",
    "    fen.set_tight_layout(True)\n",
    "    i=0\n",
    "    for corr in plots[plot]:\n",
    "        for pivot in files.keys():\n",
    "            if os.path.isdir(files[pivot]):\n",
    "                hdf5_file = os.path.join(files[pivot],\"rotated_correlators.hdf5\")\n",
    "            else:\n",
    "                hdf5_file = files[pivot]\n",
    "            #get all correlator data\n",
    "            with h5py.File(hdf5_file,\"r\") as hdf5_data:\n",
    "                roots = list(hdf5_data.keys())\n",
    "                roots.remove(\"Info\")\n",
    "                for root in roots:\n",
    "                    this_t, this_corr, this_err = utils.collectCorrEstimates(hdf5_data,plots[plot][corr],tag=root)\n",
    "                    if plot!=plots[plot][corr]:\n",
    "                        label = f\"{corr}, {pivot}\"\n",
    "                    else:\n",
    "                        label = pivot\n",
    "                    if this_t:\n",
    "                        ax1.errorbar( this_t, this_corr,this_err, label=label,  color=settings.colors[i], marker=settings.markers[i], linewidth=0.0, elinewidth=2.0, capsize=5.0 )\n",
    "                        ax1.legend()\n",
    "                        ax1.set_xlabel(\"$t$\")\n",
    "                        if type(plots[plot][corr])==list:\n",
    "                            ax1.set_ylabel(\"$R(t)$\")\n",
    "                        else:\n",
    "                            ax1.set_ylabel(\"$C(t)$\")\n",
    "                            ax1.set_yscale(\"log\")\n",
    "                #         plt.subplot(1,2,2)\n",
    "                        this_t, this_corr, this_err = utils.collectEnergyEstimates(hdf5_data,plots[plot][corr],tag=root)\n",
    "                        itmax = int(tmax-this_t[0]+0.5)\n",
    "                        ax2.errorbar( this_t[:itmax], this_corr[:itmax],this_err[:itmax], label=label,  color=settings.colors[i], marker=settings.markers[i], linewidth=0.0, elinewidth=2.0, capsize=5.0 )\n",
    "                        axen.errorbar( this_t[:itmax], this_corr[:itmax],this_err[:itmax], label=label,  color=settings.colors[i], marker=settings.markers[i], linewidth=0.0, elinewidth=2.0, capsize=5.0 )\n",
    "                        \n",
    "                #         this_t, this_corr, this_err = utils.collectEnergyEstimates(hdf5_data,corr,func=2)\n",
    "                #         ax2.errorbar( this_t, this_corr,this_err, label=pivot+\"2\",  color=settings.colors[i+3], marker=settings.markers[i+3], linewidth=0.0, elinewidth=2.0, capsize=5.0 )\n",
    "\n",
    "\n",
    "                #         this_t, this_corr, this_err = utils.collectEnergyEstimates(hdf5_data,corr,func=3)\n",
    "                #         itmax = np.where( np.array(this_err)>this_corr[0] )[0][0]\n",
    "                # #         print(itmax)\n",
    "                #         ax2.errorbar( this_t[:itmax], this_corr[:itmax],this_err[:itmax], label=pivot+\"2\",  color=settings.colors[i+3], marker=settings.markers[i+3], linewidth=0.0, elinewidth=2.0, capsize=5.0 )\n",
    "\n",
    "                        i+=1\n",
    "                    \n",
    "            ax2.legend()\n",
    "            ax2.set_xlabel(\"$t$\")\n",
    "            ax2.set_ylabel(\"$E_{eff}(t)$\")\n",
    "                    \n",
    "            axen.legend()\n",
    "            axen.set_xlabel(\"$t$\")\n",
    "            axen.set_ylabel(\"$E_{eff}(t)$\")\n",
    "            \n",
    "#     plt.tight_layout()\n",
    "#     plt.savefig(plot.replace('$','').replace('/','').replace('\\\\','')+\".png\")\n",
    "#     plt.savefig(plot.replace('$','').replace('/','').replace('\\\\','')+\".pdf\")\n",
    "    f.savefig(plot.replace('$','').replace('/','').replace('\\\\','')+\".png\", transparent=True)\n",
    "    f.savefig(plot.replace('$','').replace('/','').replace('\\\\','')+\".pdf\", transparent=True)\n",
    "    fen.savefig(plot.replace('$','').replace('/','').replace('\\\\','')+\"_energies.png\", transparent=True)\n",
    "    fen.savefig(plot.replace('$','').replace('/','').replace('\\\\','')+\"_energies.pdf\", transparent=True)\n",
    "    "
   ]
  },
  {
   "cell_type": "code",
   "execution_count": null,
   "metadata": {},
   "outputs": [],
   "source": []
  }
 ],
 "metadata": {
  "kernelspec": {
   "display_name": "Python 3",
   "language": "python",
   "name": "python3"
  },
  "language_info": {
   "codemirror_mode": {
    "name": "ipython",
    "version": 3
   },
   "file_extension": ".py",
   "mimetype": "text/x-python",
   "name": "python",
   "nbconvert_exporter": "python",
   "pygments_lexer": "ipython3",
   "version": "3.8.5"
  }
 },
 "nbformat": 4,
 "nbformat_minor": 4
}
