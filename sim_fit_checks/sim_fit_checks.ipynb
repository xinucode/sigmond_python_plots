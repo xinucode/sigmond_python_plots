{
 "cells": [
  {
   "cell_type": "code",
   "execution_count": 1,
   "metadata": {},
   "outputs": [],
   "source": [
    "import numpy as np\n",
    "import h5py\n",
    "import os, sys\n",
    "import pandas as pd\n",
    "import matplotlib.pyplot as plt\n",
    "from matplotlib import image as mpimg\n",
    "import yaml\n",
    "import argparse\n",
    "import xml.etree.ElementTree as ET\n",
    "\n",
    "sys.path.append('../')\n",
    "import utils\n",
    "import settings\n",
    "plt.style.use('../spectrum.mplstyle')"
   ]
  },
  {
   "cell_type": "code",
   "execution_count": 2,
   "metadata": {},
   "outputs": [
    {
     "name": "stdout",
     "output_type": "stream",
     "text": [
      "['isosinglet_nonstrange_nucleonnucleon_sim.isosinglet_S0_T1g_P0_single_pivot_n4_m4_d10_c150.log']\n"
     ]
    }
   ],
   "source": [
    "log_filter = np.array([x.endswith(\"log\") for x in os.listdir()])\n",
    "log_files = np.array(os.listdir())[log_filter]\n",
    "print(log_files)\n",
    "chosen_values = {\n",
    "    'isosinglet S=0 P=(0,0,0) T1g ROT 0': {\"tmin\":2,\"confidence\":1},\n",
    "    'isosinglet S=0 P=(0,0,0) T1g ROT 1': {\"tmin\":2,\"confidence\":1},\n",
    "    'isosinglet S=0 P=(0,0,0) T1g ROT 2': {\"tmin\":2,\"confidence\":1},\n",
    "    'isosinglet S=0 P=(0,0,0) T1g ROT 3': {\"tmin\":2,\"confidence\":1},\n",
    "    'isosinglet S=0 P=(0,0,0) T1g ROT 4': {\"tmin\":2,\"confidence\":1},\n",
    "    'isosinglet S=0 P=(0,0,0) T1g ROT 5': {\"tmin\":2,\"confidence\":1},\n",
    "    'isosinglet S=0 P=(0,0,0) T1g ROT 6': {\"tmin\":2,\"confidence\":1},\n",
    "}"
   ]
  },
  {
   "cell_type": "code",
   "execution_count": 3,
   "metadata": {},
   "outputs": [
    {
     "name": "stdout",
     "output_type": "stream",
     "text": [
      "isosinglet S=0 P=(0,0,0) T1g ROT 0\n",
      "0\n",
      "isosinglet S=0 P=(0,0,0) T1g ROT 1\n",
      "0\n",
      "isosinglet S=0 P=(0,0,0) T1g ROT 2\n",
      "0\n",
      "isosinglet S=0 P=(0,0,0) T1g ROT 3\n",
      "0\n",
      "isosinglet S=0 P=(0,0,0) T1g ROT 4\n",
      "0\n",
      "isosinglet S=0 P=(0,0,0) T1g ROT 5\n",
      "0\n",
      "isosinglet S=0 P=(0,0,0) T1g ROT 6\n",
      "0\n",
      "isosinglet S=0 P=(0,0,0) T1g ROT 7\n"
     ]
    },
    {
     "data": {
      "text/plain": [
       "<Figure size 1152x576 with 0 Axes>"
      ]
     },
     "metadata": {},
     "output_type": "display_data"
    }
   ],
   "source": [
    "f = plt.figure(facecolor=\"white\")\n",
    "f.set_figwidth(16)\n",
    "f.set_figheight(8)\n",
    "completed_ops = []\n",
    "for log_file in log_files:\n",
    "    data = ET.parse(log_file)\n",
    "    root = data.getroot()\n",
    "    for item in root.findall('./Task/DoFit'):\n",
    "        if (item.find(\"./Type\").text==\"TemporalCorrelatorTminVary\") and (item.find(\"./TemporalCorrelatorTminVaryFit/Model\").text==\"TimeForwardThreeIndExp\"):\n",
    "            plt.clf()\n",
    "            corr = item.find('./TemporalCorrelatorTminVaryFit/GIOperatorString').text\n",
    "            if corr not in completed_ops:\n",
    "                print(corr)\n",
    "                tmin_vals = []\n",
    "                E1_vals = []\n",
    "                E0_vals = []\n",
    "                E2_vals = []\n",
    "                E1_errs = []\n",
    "                E0_errs = []\n",
    "                E2_errs = []\n",
    "                all_fits = item.findall(\"./\")\n",
    "                \n",
    "                while all_fits:\n",
    "                    while all_fits[0].tag!=\"TemporalCorrelatorTminVaryFit\":\n",
    "                        all_fits.pop(0)\n",
    "                        if not all_fits:\n",
    "                            break\n",
    "                    if len(all_fits)<=1:\n",
    "                        break\n",
    "                    while all_fits[1].tag!=\"BestFitResult\" and all_fits[1].tag!=\"TemporalCorrelatorTminVaryFit\":\n",
    "                        all_fits.pop(1)\n",
    "                        if len(all_fits)<=1:\n",
    "                            break\n",
    "                    \n",
    "                    if len(all_fits)<=1:\n",
    "                        break\n",
    "                    if all_fits[1].tag==\"BestFitResult\":\n",
    "                        tmin_vals.append( int(all_fits[0].find(\"./TimeSeparations\").text.split(\" \")[0]) )\n",
    "                        these_Es = {}\n",
    "                        these_Es[float(all_fits[1].find(\"./FitParameter0/MCEstimate/FullEstimate\").text)] = 0 \n",
    "                        these_Es[float(all_fits[1].find(\"./FitParameter2/MCEstimate/FullEstimate\").text)] = 2\n",
    "                        these_Es[float(all_fits[1].find(\"./FitParameter4/MCEstimate/FullEstimate\").text)] = 4\n",
    "                        these_Es_sort = list(these_Es.keys())\n",
    "                        these_Es_sort.sort()\n",
    "#                         these_Es_sort = {x:i for i,x in enumerate(these_Es_sort)}\n",
    "                        E0_vals.append( these_Es_sort[0] )\n",
    "                        E0_errs.append( float(all_fits[1].find(f\"./FitParameter{these_Es[these_Es_sort[0]]}/MCEstimate/SymmetricError\").text) )\n",
    "                        E1_vals.append( these_Es_sort[1] )\n",
    "                        E1_errs.append( float(all_fits[1].find(f\"./FitParameter{these_Es[these_Es_sort[1]]}/MCEstimate/SymmetricError\").text) )\n",
    "                        E2_vals.append( these_Es_sort[2] )\n",
    "                        E2_errs.append( float(all_fits[1].find(f\"./FitParameter{these_Es[these_Es_sort[2]]}/MCEstimate/SymmetricError\").text) )\n",
    "                        all_fits.pop(0)\n",
    "                        all_fits.pop(0)\n",
    "                    else:\n",
    "                        all_fits.pop(0)\n",
    "                        \n",
    "                        \n",
    "                f.suptitle(corr)\n",
    "                plt.subplot(1,2,1)\n",
    "                plt.errorbar( tmin_vals, E0_vals,E0_errs,marker=settings.markers[0],color=settings.colors[0],lw=0.0, elinewidth=2.0, capsize=5.0)\n",
    "                plt.xlabel( 'tmin')\n",
    "                plt.xticks(tmin_vals)\n",
    "                plt.ylabel('E0')\n",
    "                if corr in chosen_values:\n",
    "                    chosen_index = tmin_vals.index(chosen_values[corr][\"tmin\"])\n",
    "                    print(chosen_index)\n",
    "                    chosen_values[corr][\"E0_val\"] = E0_vals[chosen_index]\n",
    "                    chosen_values[corr][\"E0_err\"] = E0_errs[chosen_index]\n",
    "                    chosen_values[corr][\"E1_val\"] = E1_vals[chosen_index]\n",
    "                    chosen_values[corr][\"E1_err\"] = E1_errs[chosen_index]\n",
    "                    plt.axhline(chosen_values[corr][\"E0_val\"],color=\"black\")\n",
    "                    plt.axhline(chosen_values[corr][\"E0_val\"]+chosen_values[corr][\"E0_err\"],color=\"black\",ls=\"--\")\n",
    "                    plt.axhline(chosen_values[corr][\"E0_val\"]-chosen_values[corr][\"E0_err\"],color=\"black\",ls=\"--\")\n",
    "                    \n",
    "                plt.subplot(1,2,2)\n",
    "                plt.errorbar( tmin_vals, E1_vals,E1_errs,marker=settings.markers[1],color=settings.colors[1],lw=0.0, elinewidth=2.0, capsize=5.0,label=\"E1\")\n",
    "                plt.errorbar( tmin_vals, E2_vals,E2_errs,marker=settings.markers[2],color=settings.colors[2],lw=0.0, elinewidth=2.0, capsize=5.0,label=\"E2\")\n",
    "                plt.xlabel( 'tmin')\n",
    "                plt.xticks(tmin_vals)\n",
    "                plt.ylabel('E1/E2')\n",
    "                if corr in chosen_values:\n",
    "                    plt.axhline(chosen_values[corr][\"E1_val\"],color=\"black\")\n",
    "                    plt.axhline(chosen_values[corr][\"E1_val\"]+chosen_values[corr][\"E1_err\"],color=\"black\",ls=\"--\")\n",
    "                    plt.axhline(chosen_values[corr][\"E1_val\"]-chosen_values[corr][\"E1_err\"],color=\"black\",ls=\"--\")\n",
    "#                 plt.tight_layout()\n",
    "                plt.savefig(corr.replace(\" \",\"_\")+\"_Efits.png\")\n",
    "                completed_ops.append(corr)\n",
    "                "
   ]
  },
  {
   "cell_type": "code",
   "execution_count": 4,
   "metadata": {},
   "outputs": [],
   "source": [
    "E0_vals = [chosen_values[corr][\"E0_val\"] for corr in chosen_values.keys()]\n",
    "E0_vals.sort()\n",
    "sort_order_dict = {x: i for i, x in enumerate(E0_vals)}\n",
    "# keys = list(chosen_values.keys())\n",
    "for corr in chosen_values.keys():\n",
    "    chosen_values[corr][\"new_level\"] = sort_order_dict[chosen_values[corr][\"E0_val\"]]\n"
   ]
  },
  {
   "cell_type": "code",
   "execution_count": 5,
   "metadata": {},
   "outputs": [
    {
     "name": "stdout",
     "output_type": "stream",
     "text": [
      "isosinglet S=0 P=(0,0,0) T1g ROT 0 0.662035038641\n",
      "isosinglet S=0 P=(0,0,0) T1g ROT 1 0.755269310047\n",
      "isosinglet S=0 P=(0,0,0) T1g ROT 2 0.700244078696\n",
      "isosinglet S=0 P=(0,0,0) T1g ROT 3 0.725797413825\n",
      "isosinglet S=0 P=(0,0,0) T1g ROT 4 0.727824200472\n",
      "isosinglet S=0 P=(0,0,0) T1g ROT 5 0.731220179133\n",
      "isosinglet S=0 P=(0,0,0) T1g ROT 6 0.749625275656\n"
     ]
    },
    {
     "data": {
      "image/png": "[encoded data removed]",
      "text/plain": [
       "<Figure size 864x576 with 1 Axes>"
      ]
     },
     "metadata": {},
     "output_type": "display_data"
    }
   ],
   "source": [
    "f = plt.figure(facecolor=\"white\")\n",
    "f.set_figwidth(12)\n",
    "f.set_figheight(8)\n",
    "x = []\n",
    "y = []\n",
    "yerr = []\n",
    "for corr in chosen_values.keys():\n",
    "    if chosen_values[corr][\"confidence\"]:\n",
    "        x.append(chosen_values[corr][\"new_level\"])\n",
    "        y.append(chosen_values[corr][\"E1_val\"])\n",
    "        yerr.append(chosen_values[corr][\"E1_err\"])\n",
    "        plt.errorbar( x, y,yerr,marker=settings.markers[1],color=settings.colors[1],lw=0.0, elinewidth=2.0, capsize=5.0)\n",
    "        plt.xlabel( 'Level')\n",
    "        plt.xticks(x)\n",
    "        plt.ylabel('E1')\n",
    "        plt.tight_layout()\n",
    "        print( corr, chosen_values[corr][\"E0_val\"])"
   ]
  },
  {
   "cell_type": "code",
   "execution_count": null,
   "metadata": {},
   "outputs": [],
   "source": []
  }
 ],
 "metadata": {
  "kernelspec": {
   "display_name": "Python 3",
   "language": "python",
   "name": "python3"
  },
  "language_info": {
   "codemirror_mode": {
    "name": "ipython",
    "version": 3
   },
   "file_extension": ".py",
   "mimetype": "text/x-python",
   "name": "python",
   "nbconvert_exporter": "python",
   "pygments_lexer": "ipython3",
   "version": "3.8.5"
  }
 },
 "nbformat": 4,
 "nbformat_minor": 4
}
