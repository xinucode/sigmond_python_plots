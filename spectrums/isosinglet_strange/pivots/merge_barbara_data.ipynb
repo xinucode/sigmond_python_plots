{
 "cells": [
  {
   "cell_type": "code",
   "execution_count": 6,
   "metadata": {},
   "outputs": [],
   "source": [
    "import h5py"
   ]
  },
  {
   "cell_type": "code",
   "execution_count": 13,
   "metadata": {},
   "outputs": [],
   "source": [
    "final_file = \"Matrix_correlators_ratios_bt_bin10_fits.h5\"\n",
    "added_info = \"Matrix_correlators_ratios_bt_bin10.h5\"\n",
    "dest = h5py.File(final_file,'a')\n",
    "source = h5py.File(added_info,'r')\n",
    "for key in dest.keys():\n",
    "    dest[key][\"Single_hadron_corrs\"] = source[key][\"Single_hadron_corrs\"][()]\n",
    "dest.close()\n",
    "source.close()"
   ]
  },
  {
   "cell_type": "code",
   "execution_count": 12,
   "metadata": {},
   "outputs": [],
   "source": [
    "dest.close()\n",
    "source.close()"
   ]
  },
  {
   "cell_type": "code",
   "execution_count": null,
   "metadata": {},
   "outputs": [],
   "source": []
  }
 ],
 "metadata": {
  "kernelspec": {
   "display_name": "Python 3",
   "language": "python",
   "name": "python3"
  },
  "language_info": {
   "codemirror_mode": {
    "name": "ipython",
    "version": 3
   },
   "file_extension": ".py",
   "mimetype": "text/x-python",
   "name": "python",
   "nbconvert_exporter": "python",
   "pygments_lexer": "ipython3",
   "version": "3.8.5"
  }
 },
 "nbformat": 4,
 "nbformat_minor": 4
}
