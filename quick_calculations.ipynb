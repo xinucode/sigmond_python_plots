{
 "cells": [
  {
   "cell_type": "code",
   "execution_count": 1,
   "metadata": {},
   "outputs": [],
   "source": [
    "import numpy as np\n",
    "import h5py\n",
    "import os, sys\n",
    "import pandas as pd\n",
    "import matplotlib.pyplot as plt\n",
    "from matplotlib import image as mpimg\n",
    "import yaml\n",
    "import argparse\n",
    "\n",
    "import utils\n",
    "import settings\n",
    "plt.style.use('spectrum.mplstyle')"
   ]
  },
  {
   "cell_type": "code",
   "execution_count": 2,
   "metadata": {},
   "outputs": [],
   "source": [
    "with h5py.File(\"energy_samplings_tetraquarks_2I1_P0_A1g_notq_rebin2.hdf5\") as data:\n",
    "    # single_hadrons = list(data['single_hadrons'].keys())\n",
    "    single_hadrons = ['ref','eta(0)','phi(0)','k(0)','pi(0)']\n",
    "    single_hadrons_data = {}\n",
    "    # print(data['single_hadrons'].keys())\n",
    "    for single_hadron in single_hadrons:\n",
    "        single_hadrons_data[single_hadron] = data['single_hadrons'][single_hadron][()]"
   ]
  },
  {
   "cell_type": "code",
   "execution_count": 3,
   "metadata": {},
   "outputs": [],
   "source": [
    "def boost(m, intpsq, Ns, anis=1.0):\n",
    "    return np.sqrt( m*m+intpsq*(2.0*np.pi/Ns/anis)**2 )"
   ]
  },
  {
   "cell_type": "code",
   "execution_count": 4,
   "metadata": {},
   "outputs": [],
   "source": [
    "for sh in ['eta(0)','phi(0)','k(0)','pi(0)']:\n",
    "    for i in range(4):\n",
    "        single_hadrons_data[sh.replace('0',f'{i}')] = boost(single_hadrons_data[sh],i,32,3.451)\n",
    "        single_hadrons_data[sh.replace('0',f'{i}')+\"_ref\"] = single_hadrons_data[sh.replace('0',f'{i}')]/single_hadrons_data['ref']"
   ]
  },
  {
   "cell_type": "markdown",
   "metadata": {},
   "source": [
    "for sh in ['eta','phi']:\n",
    "    single_hadrons_data[f'k(1){sh}(1)_ref'] = single_hadrons_data[f'{sh}(1)_ref']+single_hadrons_data['k(1)_ref']\n",
    "    print(f'k(1){sh}(1)_ref',single_hadrons_data[f'k(1){sh}(1)_ref'][0],utils.bootstrap_error_by_array(single_hadrons_data[f'k(1){sh}(1)_ref']))"
   ]
  },
  {
   "cell_type": "code",
   "execution_count": 5,
   "metadata": {},
   "outputs": [
    {
     "name": "stdout",
     "output_type": "stream",
     "text": [
      "PSQ0/A1gm/eta(0)pi(0)_ref, 1.490216768507957, 0.1417443550169286\n",
      "PSQ0/A1gm/eta(1)pi(1)_ref, 2.0550592915976065, 0.11433588210353661\n",
      "PSQ0/A1gm/eta(2)pi(2)_ref, 2.4764756021009635, 0.09868336370458387\n",
      "PSQ0/A1gm/k(0)k(0)_ref, 2.0, 0.0\n",
      "PSQ0/A1gm/k(1)k(1)_ref, 2.4208850588548496, 0.0012668083757339092\n",
      "PSQ0/A1gm/k(2)k(2)_ref, 2.7787351324610445, 0.002207265055609063\n"
     ]
    }
   ],
   "source": [
    "combine_list = [\n",
    "    ['eta', 'pi'],\n",
    "    # ['phi', 'pi'],\n",
    "    ['k','k']\n",
    "]\n",
    "for sh1, sh2 in combine_list:\n",
    "    for i in range(3):\n",
    "        ni_level = single_hadrons_data[f'{sh1}({i})_ref']+single_hadrons_data[f'{sh2}({i})_ref']\n",
    "        print(f\"PSQ0/A1gm/{sh1}({i}){sh2}({i})_ref, {ni_level[0]}, {utils.bootstrap_error_by_array(ni_level)}\")"
   ]
  },
  {
   "cell_type": "code",
   "execution_count": 6,
   "metadata": {},
   "outputs": [
    {
     "name": "stdout",
     "output_type": "stream",
     "text": [
      "PSQ0/A1g/k(0)pi(0)_ref, 1.4716430660952156, 0.0020322095048218207\n",
      "PSQ0/A1g/k(1)pi(1)_ref, 2.0396700608338283, 0.0017659582219197504\n",
      "PSQ0/A1g/k(2)pi(2)_ref, 2.4630478798662994, 0.0025292976080791706\n",
      "PSQ0/A1g/k(3)pi(3)_ref, 2.8197353768842004, 0.0032450711741305494\n",
      "PSQ0/A1g/k(0)eta(0)_ref, 2.0185737024127413, 0.14201910084125727\n",
      "PSQ0/A1g/k(1)eta(1)_ref, 2.436274289618628, 0.11450342057748579\n",
      "PSQ0/A1g/k(2)eta(2)_ref, 2.7921628546957082, 0.09881352608588076\n",
      "PSQ0/A1g/k(3)eta(3)_ref, 3.107554121297783, 0.08826919001779787\n"
     ]
    }
   ],
   "source": [
    "combine_list = [\n",
    "    ['k', 'pi'],\n",
    "    ['k','eta'],\n",
    "    # ['k','phi'],\n",
    "]\n",
    "for sh1, sh2 in combine_list:\n",
    "    for i in range(4):\n",
    "        ni_level = single_hadrons_data[f'{sh1}({i})_ref']+single_hadrons_data[f'{sh2}({i})_ref']\n",
    "        print(f\"PSQ0/A1g/{sh1}({i}){sh2}({i})_ref, {ni_level[0]}, {utils.bootstrap_error_by_array(ni_level)}\")"
   ]
  },
  {
   "cell_type": "code",
   "execution_count": 7,
   "metadata": {},
   "outputs": [
    {
     "ename": "SyntaxError",
     "evalue": "invalid syntax (2123058104.py, line 1)",
     "output_type": "error",
     "traceback": [
      "\u001b[1;36m  Cell \u001b[1;32mIn[7], line 1\u001b[1;36m\u001b[0m\n\u001b[1;33m    PSQ0/A1g/k(0)pi(0)_ref,1.471643066,0.002032202\u001b[0m\n\u001b[1;37m                 ^\u001b[0m\n\u001b[1;31mSyntaxError\u001b[0m\u001b[1;31m:\u001b[0m invalid syntax\n"
     ]
    }
   ],
   "source": [
    "PSQ0/A1g/k(0)pi(0)_ref,1.471643066,0.002032202\n",
    "PSQ0/A1g/k(1)pi(1)_ref,4.957815548,0.007309762\n",
    "PSQ0/A1g/k(0)eta(0)_ref,2.018573702,0.138788725\n",
    "PSQ0/A1g/k(1)pi(1)_ref,4.957815548,0.007309762\n",
    "PSQ0/A1g/k(0)eta(0)_ref,2.018573702,0.138788725\n",
    "PSQ0/A1g/k(1)eta(1)_ref,3.775198216,0.053064941\n",
    "PSQ0/A1g/k(1)phi(1)_ref,4.285578317,0.075820301\n",
    "PSQ0/A1g/k(2)pi(2)_ref,6.837487643,0.010633702\n",
    "PSQ0/A1g/k(3)pi(3)_ref,8.301507924,0.013154256\n",
    "PSQ0/A1g/k(0)phi(0)_ref,2.978855058,0.118352671\n",
    "PSQ0/A1g/k(3)pi(3)_ref,8.301507924,0.013154256\n",
    "PSQ0/A1g/k(3)pi(3)_ref,8.301507924,0.013154256"
   ]
  }
 ],
 "metadata": {
  "kernelspec": {
   "display_name": "Python 3",
   "language": "python",
   "name": "python3"
  },
  "language_info": {
   "codemirror_mode": {
    "name": "ipython",
    "version": 3
   },
   "file_extension": ".py",
   "mimetype": "text/x-python",
   "name": "python",
   "nbconvert_exporter": "python",
   "pygments_lexer": "ipython3",
   "version": "3.8.5"
  },
  "orig_nbformat": 4
 },
 "nbformat": 4,
 "nbformat_minor": 2
}
