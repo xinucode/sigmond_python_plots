{
 "cells": [
  {
   "cell_type": "code",
   "execution_count": 1,
   "metadata": {},
   "outputs": [
    {
     "name": "stdout",
     "output_type": "stream",
     "text": [
      "Using matplotlib backend: Qt5Agg\n"
     ]
    }
   ],
   "source": [
    "%matplotlib\n",
    "import numpy as np\n",
    "import h5py\n",
    "import os, sys\n",
    "import pandas as pd\n",
    "import matplotlib.pyplot as plt\n",
    "from matplotlib import image as mpimg\n",
    "import yaml\n",
    "import argparse\n",
    "import xml.etree.ElementTree as ET\n",
    "\n",
    "sys.path.append('../')\n",
    "import utils\n",
    "import settings\n",
    "plt.style.use('../spectrum.mplstyle')\n",
    "# plt.ion()"
   ]
  },
  {
   "cell_type": "code",
   "execution_count": 2,
   "metadata": {},
   "outputs": [],
   "source": [
    "def multi_exp_fit(param_data_object, t, corr, result_type=\"ct\"):\n",
    "    n = [2.0,1.0,1.0,1.0]\n",
    "    param_info = param_data_object['param_info'][corr].attrs\n",
    "    for i in range(0,4):\n",
    "        if f'N{i+2}' in param_info.keys():\n",
    "            n[i] = float(param_info[f'N{i+2}'])\n",
    "    param_data = param_data_object['params']['Values']\n",
    "    param_samplings = [param_data[f'<MCObservable><Info>{fit_param}<|Info><|MCObservable>'][()] for fit_param in param_info['FitParams']]\n",
    "#     print(corr,param_samplings)\n",
    "    function_vals = []\n",
    "    function_errs = []\n",
    "    for tval in t:\n",
    "        if result_type==\"ct\":\n",
    "            function_samplings = utils.multi_exp_func(tval, param_samplings[0], param_samplings[1], param_samplings[2], \n",
    "                   param_samplings[3], param_samplings[4], param_samplings[5], \n",
    "                   param_samplings[6], param_samplings[7],n[0],n[1], n[2],n[3])\n",
    "        else:\n",
    "            function_samplings = utils.multi_exp_func_eff(tval, param_samplings[0], param_samplings[1], param_samplings[2], \n",
    "                   param_samplings[3], param_samplings[4], param_samplings[5], \n",
    "                   param_samplings[6], param_samplings[7],n[0],n[1], n[2],n[3])\n",
    "        function_vals.append(function_samplings[0])\n",
    "        function_errs.append(utils.bootstrap_error_by_array(function_samplings))\n",
    "    return np.array(function_vals),np.array(function_errs)"
   ]
  },
  {
   "cell_type": "code",
   "execution_count": 3,
   "metadata": {},
   "outputs": [],
   "source": [
    "def get_fit_range(param_data_object, corr):\n",
    "    param_info = param_data_object['param_info'][corr].attrs\n",
    "    return param_info[\"FinalTmin\"], param_info[\"FinalTmax\"]"
   ]
  },
  {
   "cell_type": "code",
   "execution_count": 4,
   "metadata": {},
   "outputs": [],
   "source": [
    "data_files = {\n",
    "    \"single_hadrons.hdf5\":'single_hadrons',\n",
    "    \"rotated_correlators.hdf5\":'rotated_correlators'\n",
    "}\n",
    "param_files = {\n",
    "    \"t=[2,17],gap=1.0\": \"param_samplings_isosinglet_strange_fermionic_multi_rebin10-17.hdf5\",\n",
    "    \"t=[2,19],gap=1.0\": \"param_samplings_isosinglet_strange_fermionic_multi_rebin10-19-3.hdf5\",\n",
    "    \"t=[2,21],gap=1.0\": \"param_samplings_isosinglet_strange_fermionic_multi_rebin10-21.hdf5\",\n",
    "    \"t=[2,23],gap=1.0\": \"param_samplings_isosinglet_strange_fermionic_multi_rebin10-23.hdf5\",\n",
    "    \"t=[2,25],gap=1.0\": \"param_samplings_isosinglet_strange_fermionic_multi_rebin10-25.hdf5\",\n",
    "#     \"t=[2,19],gap=1.0\": \"param_samplings_isosinglet_strange_fermionic_multi_rebin10-19.hdf5\",\n",
    "#     \"t=[2,19]*,gap=1.0\": \"param_samplings_isosinglet_strange_fermionic_multi_rebin10-19-2.hdf5\",\n",
    "}\n",
    "johns_data_file = \"nucleon_d0_emass_1_0_errs.dat\"\n",
    "n_corr = 'isodoublet S=0 P=(0,0,0) G1g N[SS0] 0'\n",
    "\n",
    "available_corrs = []\n",
    "for file in param_files:\n",
    "    param_samplings = h5py.File(param_files[file],\"r\")\n",
    "    available_corrs += list( param_samplings['param_info'].keys() )\n",
    "    param_samplings.close()"
   ]
  },
  {
   "cell_type": "code",
   "execution_count": 5,
   "metadata": {},
   "outputs": [],
   "source": [
    "available_corrs = list(set(available_corrs))\n",
    "# available_corrs = [n_corr]"
   ]
  },
  {
   "cell_type": "code",
   "execution_count": 6,
   "metadata": {},
   "outputs": [
    {
     "name": "stdout",
     "output_type": "stream",
     "text": [
      "isosinglet S=-1 PSQ=3 G ROT 8\n",
      "isosinglet S=-1 P=(0,0,0) G1u ROT 0\n",
      "isosinglet S=-1 PSQ=3 F1 ROT 5\n"
     ]
    },
    {
     "name": "stderr",
     "output_type": "stream",
     "text": [
      "..\\utils.py:22: RuntimeWarning: invalid value encountered in log\n",
      "  return t[:-1]+0.5*(t[1]-t[0]), np.log( C[:-1]/C[1:] )\n"
     ]
    },
    {
     "name": "stdout",
     "output_type": "stream",
     "text": [
      "isosinglet S=-1 PSQ=3 G ROT 4\n",
      "isosinglet S=-1 P=(0,0,0) G1u ROT 4\n",
      "isosinglet S=-1 PSQ=3 F2 ROT 2\n",
      "isosinglet S=-1 PSQ=2 G ROT 5\n",
      "isodoublet S=-1 PSQ=4 A2 k[SS1] 0\n",
      "isosinglet S=-1 PSQ=3 F2 ROT 3\n",
      "isotriplet S=0 PSQ=1 A2m P[SS1] 0\n",
      "isosinglet S=-1 PSQ=2 G ROT 4\n",
      "isosinglet S=-1 PSQ=3 G ROT 9\n",
      "isosinglet S=-1 PSQ=3 F2 ROT 5\n"
     ]
    },
    {
     "name": "stderr",
     "output_type": "stream",
     "text": [
      "..\\utils.py:22: RuntimeWarning: invalid value encountered in log\n",
      "  return t[:-1]+0.5*(t[1]-t[0]), np.log( C[:-1]/C[1:] )\n"
     ]
    },
    {
     "name": "stdout",
     "output_type": "stream",
     "text": [
      "isodoublet S=0 PSQ=3 G N[SS0] 0\n",
      "isosinglet S=-1 PSQ=3 F2 ROT 4\n",
      "isosinglet S=-1 PSQ=1 G2 ROT 5\n",
      "isosinglet S=-1 PSQ=3 F1 ROT 2\n",
      "isosinglet S=-1 PSQ=1 G2 ROT 3\n",
      "isotriplet S=-1 PSQ=3 G S[SS0] 0\n",
      "isotriplet S=-1 PSQ=2 G S[SS0] 0\n",
      "isosinglet S=-1 P=(0,0,0) G1g ROT 0\n",
      "isotriplet S=-1 P=(0,0,0) G1g S[SS0] 0\n",
      "isosinglet S=-1 PSQ=1 G1 ROT 1\n",
      "isosinglet S=-1 PSQ=2 G ROT 7\n",
      "isosinglet S=-1 PSQ=2 G ROT 12\n"
     ]
    },
    {
     "name": "stderr",
     "output_type": "stream",
     "text": [
      "..\\utils.py:22: RuntimeWarning: invalid value encountered in log\n",
      "  return t[:-1]+0.5*(t[1]-t[0]), np.log( C[:-1]/C[1:] )\n"
     ]
    },
    {
     "name": "stdout",
     "output_type": "stream",
     "text": [
      "isosinglet S=-1 PSQ=2 G ROT 2\n",
      "isosinglet S=-1 P=(0,0,0) G1u ROT 1\n",
      "isodoublet S=-1 PSQ=2 A2 k[SS0] 0\n",
      "isosinglet S=-1 PSQ=2 G ROT 13\n"
     ]
    },
    {
     "name": "stderr",
     "output_type": "stream",
     "text": [
      "..\\utils.py:22: RuntimeWarning: invalid value encountered in log\n",
      "  return t[:-1]+0.5*(t[1]-t[0]), np.log( C[:-1]/C[1:] )\n"
     ]
    },
    {
     "name": "stdout",
     "output_type": "stream",
     "text": [
      "isosinglet S=-1 PSQ=1 G1 ROT 7\n"
     ]
    },
    {
     "name": "stderr",
     "output_type": "stream",
     "text": [
      "..\\utils.py:22: RuntimeWarning: invalid value encountered in log\n",
      "  return t[:-1]+0.5*(t[1]-t[0]), np.log( C[:-1]/C[1:] )\n"
     ]
    },
    {
     "name": "stdout",
     "output_type": "stream",
     "text": [
      "isosinglet S=-1 PSQ=3 G ROT 0\n",
      "isotriplet S=-1 PSQ=1 G1 S[SS0] 0\n",
      "isosinglet S=-1 P=(0,0,0) Hu ROT 2\n",
      "isosinglet S=-1 PSQ=3 F1 ROT 3\n",
      "isosinglet S=-1 PSQ=1 G2 ROT 6\n"
     ]
    },
    {
     "name": "stderr",
     "output_type": "stream",
     "text": [
      "..\\utils.py:22: RuntimeWarning: invalid value encountered in log\n",
      "  return t[:-1]+0.5*(t[1]-t[0]), np.log( C[:-1]/C[1:] )\n"
     ]
    },
    {
     "name": "stdout",
     "output_type": "stream",
     "text": [
      "isodoublet S=-1 PSQ=3 A2 k[SS0] 0\n",
      "isosinglet S=-1 PSQ=3 F1 ROT 1\n",
      "isosinglet S=-1 PSQ=1 G1 ROT 4\n",
      "isosinglet S=-1 PSQ=1 G2 ROT 4\n",
      "isosinglet S=-1 P=(0,0,0) G1u ROT 6\n"
     ]
    },
    {
     "name": "stderr",
     "output_type": "stream",
     "text": [
      "..\\utils.py:22: RuntimeWarning: invalid value encountered in log\n",
      "  return t[:-1]+0.5*(t[1]-t[0]), np.log( C[:-1]/C[1:] )\n"
     ]
    },
    {
     "name": "stdout",
     "output_type": "stream",
     "text": [
      "isosinglet S=-1 PSQ=1 G2 ROT 1\n",
      "isosinglet S=-1 PSQ=1 G1 ROT 6\n"
     ]
    },
    {
     "name": "stderr",
     "output_type": "stream",
     "text": [
      "..\\utils.py:22: RuntimeWarning: invalid value encountered in log\n",
      "  return t[:-1]+0.5*(t[1]-t[0]), np.log( C[:-1]/C[1:] )\n"
     ]
    },
    {
     "name": "stdout",
     "output_type": "stream",
     "text": [
      "isosinglet S=-1 PSQ=2 G ROT 6\n",
      "isotriplet S=0 PSQ=3 A2m P[SS0] 0\n",
      "isosinglet S=-1 PSQ=3 G ROT 2\n",
      "isotriplet S=0 P=(0,0,0) A1um P[SS0] 0\n",
      "\"Unable to open object (object '<MCObservable><Info>30000A1um-P[SS0]-0T2-17 12 n re<|Info><|MCObservable>' doesn't exist)\"\n",
      "\"Unable to open object (object '<MCObservable><Info>30000A1um-P[SS0]-0T2-17 12 n re<|Info><|MCObservable>' doesn't exist)\"\n",
      "\"Unable to open object (object '<MCObservable><Info>30000A1um-P[SS0]-0T2-19 12 n re<|Info><|MCObservable>' doesn't exist)\"\n",
      "\"Unable to open object (object '<MCObservable><Info>30000A1um-P[SS0]-0T2-19 12 n re<|Info><|MCObservable>' doesn't exist)\"\n",
      "\"Unable to open object (object '<MCObservable><Info>30000A1um-P[SS0]-0T2-21 12 n re<|Info><|MCObservable>' doesn't exist)\"\n",
      "\"Unable to open object (object '<MCObservable><Info>30000A1um-P[SS0]-0T2-21 12 n re<|Info><|MCObservable>' doesn't exist)\"\n",
      "\"Unable to open object (object '<MCObservable><Info>30000A1um-P[SS0]-0T2-23 12 n re<|Info><|MCObservable>' doesn't exist)\"\n",
      "\"Unable to open object (object '<MCObservable><Info>30000A1um-P[SS0]-0T2-23 12 n re<|Info><|MCObservable>' doesn't exist)\"\n",
      "\"Unable to open object (object '<MCObservable><Info>30000A1um-P[SS0]-0T2-25 12 n re<|Info><|MCObservable>' doesn't exist)\"\n",
      "\"Unable to open object (object '<MCObservable><Info>30000A1um-P[SS0]-0T2-25 12 n re<|Info><|MCObservable>' doesn't exist)\"\n",
      "isosinglet S=-1 P=(0,0,0) G1u ROT 2\n",
      "isosinglet S=-1 PSQ=1 G1 ROT 8\n",
      "isosinglet S=-1 PSQ=2 G ROT 8\n",
      "isosinglet S=-1 P=(0,0,0) G1g ROT 3\n"
     ]
    },
    {
     "name": "stderr",
     "output_type": "stream",
     "text": [
      "..\\utils.py:22: RuntimeWarning: invalid value encountered in log\n",
      "  return t[:-1]+0.5*(t[1]-t[0]), np.log( C[:-1]/C[1:] )\n"
     ]
    },
    {
     "name": "stdout",
     "output_type": "stream",
     "text": [
      "isosinglet S=-1 PSQ=3 F2 ROT 1\n",
      "isosinglet S=-1 PSQ=2 G ROT 14\n"
     ]
    },
    {
     "name": "stderr",
     "output_type": "stream",
     "text": [
      "..\\utils.py:22: RuntimeWarning: invalid value encountered in log\n",
      "  return t[:-1]+0.5*(t[1]-t[0]), np.log( C[:-1]/C[1:] )\n"
     ]
    },
    {
     "name": "stdout",
     "output_type": "stream",
     "text": [
      "isosinglet S=-1 P=(0,0,0) G1u ROT 7\n"
     ]
    },
    {
     "name": "stderr",
     "output_type": "stream",
     "text": [
      "..\\utils.py:22: RuntimeWarning: invalid value encountered in log\n",
      "  return t[:-1]+0.5*(t[1]-t[0]), np.log( C[:-1]/C[1:] )\n"
     ]
    },
    {
     "name": "stdout",
     "output_type": "stream",
     "text": [
      "isosinglet S=-1 PSQ=3 G ROT 11\n"
     ]
    },
    {
     "name": "stderr",
     "output_type": "stream",
     "text": [
      "..\\utils.py:22: RuntimeWarning: invalid value encountered in log\n",
      "  return t[:-1]+0.5*(t[1]-t[0]), np.log( C[:-1]/C[1:] )\n"
     ]
    },
    {
     "name": "stdout",
     "output_type": "stream",
     "text": [
      "isosinglet S=-1 P=(0,0,0) G1g ROT 1\n",
      "isosinglet S=-1 PSQ=3 F1 ROT 4\n",
      "isodoublet S=0 PSQ=2 G N[SS0] 0\n",
      "isosinglet S=-1 PSQ=1 G2 ROT 2\n",
      "isosinglet S=-1 P=(0,0,0) Hu ROT 1\n",
      "isosinglet S=-1 PSQ=1 G1 ROT 5\n",
      "isosinglet S=-1 PSQ=3 G ROT 1\n",
      "isosinglet S=-1 PSQ=2 G ROT 0\n",
      "isosinglet S=-1 P=(0,0,0) G1u ROT 5\n"
     ]
    },
    {
     "name": "stderr",
     "output_type": "stream",
     "text": [
      "..\\utils.py:22: RuntimeWarning: invalid value encountered in log\n",
      "  return t[:-1]+0.5*(t[1]-t[0]), np.log( C[:-1]/C[1:] )\n"
     ]
    },
    {
     "name": "stdout",
     "output_type": "stream",
     "text": [
      "isosinglet S=-1 PSQ=2 G ROT 3\n",
      "isosinglet S=-1 PSQ=3 F1 ROT 0\n",
      "isosinglet S=-1 P=(0,0,0) G1u ROT 3\n",
      "isosinglet S=-1 PSQ=1 G1 ROT 0\n",
      "isodoublet S=-1 PSQ=1 A2 k[SS1] 0\n",
      "isosinglet S=-1 PSQ=2 G ROT 9\n",
      "isosinglet S=-1 PSQ=1 G1 ROT 3\n",
      "isodoublet S=-2 P=(0,0,0) G1g X[SS0] 0\n",
      "isosinglet S=-1 PSQ=3 G ROT 3\n",
      "isosinglet S=-1 PSQ=2 G ROT 10\n",
      "isosinglet S=-1 PSQ=3 G ROT 5\n",
      "isotriplet S=0 PSQ=2 A2m P[SS0] 0\n",
      "isosinglet S=-1 PSQ=3 G ROT 10\n",
      "isosinglet S=-1 P=(0,0,0) G1g ROT 4\n"
     ]
    },
    {
     "name": "stderr",
     "output_type": "stream",
     "text": [
      "..\\utils.py:22: RuntimeWarning: invalid value encountered in log\n",
      "  return t[:-1]+0.5*(t[1]-t[0]), np.log( C[:-1]/C[1:] )\n"
     ]
    },
    {
     "name": "stdout",
     "output_type": "stream",
     "text": [
      "isosinglet S=-1 P=(0,0,0) Hu ROT 0\n",
      "isodoublet S=-1 P=(0,0,0) A1u k[SS0] 0\n",
      "isosinglet S=-1 P=(0,0,0) G1g L[SS0] 0\n",
      "isosinglet S=-1 PSQ=3 G ROT 12\n"
     ]
    },
    {
     "name": "stderr",
     "output_type": "stream",
     "text": [
      "..\\utils.py:22: RuntimeWarning: invalid value encountered in log\n",
      "  return t[:-1]+0.5*(t[1]-t[0]), np.log( C[:-1]/C[1:] )\n"
     ]
    },
    {
     "name": "stdout",
     "output_type": "stream",
     "text": [
      "isosinglet S=-1 PSQ=3 F2 ROT 0\n",
      "isosinglet S=-1 PSQ=1 G1 ROT 2\n",
      "isodoublet S=0 PSQ=1 G1 N[SS0] 0\n",
      "isodoublet S=0 P=(0,0,0) G1g N[SS0] 0\n"
     ]
    },
    {
     "name": "stderr",
     "output_type": "stream",
     "text": [
      "<ipython-input-6-c09bfd0d1b17>:70: ParserWarning: Falling back to the 'python' engine because the 'c' engine does not support regex separators (separators > 1 char and different from '\\s+' are interpreted as regex); you can avoid this warning by specifying engine='python'.\n",
      "  john_data = pd.read_csv(johns_data_file, header=None,skiprows=6,delimiter=\"   \")\n"
     ]
    },
    {
     "name": "stdout",
     "output_type": "stream",
     "text": [
      "isosinglet S=-1 PSQ=2 G ROT 11\n"
     ]
    },
    {
     "name": "stderr",
     "output_type": "stream",
     "text": [
      "..\\utils.py:22: RuntimeWarning: invalid value encountered in log\n",
      "  return t[:-1]+0.5*(t[1]-t[0]), np.log( C[:-1]/C[1:] )\n"
     ]
    },
    {
     "name": "stdout",
     "output_type": "stream",
     "text": [
      "isosinglet S=-1 PSQ=1 G2 ROT 0\n",
      "isosinglet S=-1 PSQ=2 G ROT 1\n",
      "isosinglet S=-1 PSQ=3 G ROT 6\n",
      "isosinglet S=-1 PSQ=3 G ROT 7\n",
      "isosinglet S=-1 P=(0,0,0) G1g ROT 2\n"
     ]
    }
   ],
   "source": [
    "# f = plt.figure(facecolor=\"white\")\n",
    "f, (ax1, ax2) = plt.subplots(1,2)\n",
    "f.set_figwidth(16)\n",
    "f.set_figheight(8)\n",
    "for corr in available_corrs:\n",
    "    print(corr)\n",
    "#     plt.clf()\n",
    "    ax1.clear()\n",
    "    ax2.clear()\n",
    "    f.suptitle(corr.replace(\"_\",\" \"))\n",
    "    i=0\n",
    "    for data_file in data_files.keys():\n",
    "        hdf5_data = h5py.File(data_file,\"r\")\n",
    "#         plt.subplot(1,2,1)\n",
    "        this_t, this_corr, this_err = utils.collectCorrEstimates(hdf5_data,corr,tag=data_files[data_file])\n",
    "        if this_t:\n",
    "            ax1.errorbar( this_t, this_corr,this_err, label=\"data\",  color=settings.colors[i], marker=settings.markers[i], linewidth=0.0, elinewidth=2.0, capsize=5.0 )\n",
    "#         plt.subplot(1,2,2)\n",
    "        this_t, this_corr, this_err = utils.collectEnergyEstimates(hdf5_data,corr,tag=data_files[data_file])\n",
    "        if this_t:\n",
    "            ax2.errorbar( this_t, this_corr,this_err, label=\"data\",  color=settings.colors[i], marker=settings.markers[i], linewidth=0.0, elinewidth=2.0, capsize=5.0 )\n",
    "        hdf5_data.close()\n",
    "    i=1\n",
    "    for dataset in param_files.keys():\n",
    "        hdf5_data = h5py.File(param_files[dataset],\"r\")\n",
    "        tmin, tmax = get_fit_range(hdf5_data,corr)\n",
    "        ax1.axvspan(tmin, tmax, ymin=1.0-(i)/len(param_files),ymax=1.0-(i-1)/len(param_files), alpha=0.2,color=settings.colors[i])\n",
    "        ax2.axvspan(tmin, tmax, ymin=1.0-(i)/len(param_files),ymax=1.0-(i-1)/len(param_files), alpha=0.2,color=settings.colors[i])\n",
    "        t = np.linspace(2.0,25.0,1000)\n",
    "        itmin = np.where(t>=tmin)[0][0]\n",
    "        itmax = np.where(t>=tmax)[0][0]\n",
    "        fit_vals = np.array([])\n",
    "        try:\n",
    "            fit_vals, fit_errs = multi_exp_fit(hdf5_data,t,corr,\"ct\")\n",
    "        except Exception as error:\n",
    "            print(error) #pass\n",
    "#         plt.subplot(1,2,1)\n",
    "        data_label = f\"{dataset}, {round(hdf5_data['param_info'][corr].attrs['ChiSquarePerDof'],2)}\"\n",
    "        if fit_vals.any():\n",
    "            ax1.plot(t,fit_vals,ls=\"--\",color=settings.colors[i])\n",
    "            ax1.plot(t,fit_vals+fit_errs,ls=\"--\",color=settings.colors[i])\n",
    "            ax1.plot(t,fit_vals-fit_errs,ls=\"--\",color=settings.colors[i])\n",
    "            ax1.plot(t[itmin:itmax],fit_vals[itmin:itmax],label=data_label,color=settings.colors[i])\n",
    "            ax1.plot(t[itmin:itmax],fit_vals[itmin:itmax]+fit_errs[itmin:itmax],color=settings.colors[i])\n",
    "            ax1.plot(t[itmin:itmax],fit_vals[itmin:itmax]-fit_errs[itmin:itmax],color=settings.colors[i])\n",
    "        ax1.set_xlabel(\"$t$\")\n",
    "        ax1.set_ylabel(\"$C(t)$\")\n",
    "            \n",
    "        fit_vals = np.array([])\n",
    "        try:\n",
    "            fit_vals, fit_errs = multi_exp_fit(hdf5_data,t,corr,\"eff\")\n",
    "        except Exception as error:\n",
    "            print(error) #pass\n",
    "#         plt.subplot(1,2,2)\n",
    "        if fit_vals.any():\n",
    "            ax2.plot(t,fit_vals,ls=\"--\",color=settings.colors[i])\n",
    "            ax2.plot(t,fit_vals+fit_errs,ls=\"--\",color=settings.colors[i])\n",
    "            ax2.plot(t,fit_vals-fit_errs,ls=\"--\",color=settings.colors[i])\n",
    "            ax2.plot(t[itmin:itmax],fit_vals[itmin:itmax],label=data_label,color=settings.colors[i])\n",
    "            ax2.plot(t[itmin:itmax],fit_vals[itmin:itmax]+fit_errs[itmin:itmax],color=settings.colors[i])\n",
    "            ax2.plot(t[itmin:itmax],fit_vals[itmin:itmax]-fit_errs[itmin:itmax],color=settings.colors[i])\n",
    "#         plt.legend()\n",
    "        ax2.set_xlabel(\"$t$\")\n",
    "        ax2.set_ylabel(\"$E_{eff}(t)$\")\n",
    "        ax2.legend()\n",
    "        hdf5_data.close()\n",
    "        i+=1\n",
    "        \n",
    "    if corr==n_corr:\n",
    "        john_data = pd.read_csv(johns_data_file, header=None,skiprows=6,delimiter=\"   \")\n",
    "        ax2.errorbar(john_data[0],john_data[1],john_data[2],label=\"john\",color=settings.colors[i], marker=settings.markers[i], linewidth=0.0, elinewidth=2.0, capsize=5.0)\n",
    "        ax2.legend()\n",
    "        \n",
    "    plt.tight_layout()\n",
    "    plt.savefig(corr+\".png\")"
   ]
  },
  {
   "cell_type": "code",
   "execution_count": 7,
   "metadata": {},
   "outputs": [
    {
     "name": "stdout",
     "output_type": "stream",
     "text": [
      "<KeysViewHDF5 ['<MCObservable><Info>1-1000G1g-L[SS0]-0T2-25 112 n re<|Info><|MCObservable>', '<MCObservable><Info>1-1000G1g-L[SS0]-0T2-25 12 n re<|Info><|MCObservable>', '<MCObservable><Info>1-1000G1g-L[SS0]-0T2-25 212 n re<|Info><|MCObservable>', '<MCObservable><Info>1-1000G1g-L[SS0]-0T2-25 312 n re<|Info><|MCObservable>', '<MCObservable><Info>1-1000G1g-L[SS0]-0T2-25 412 n re<|Info><|MCObservable>', '<MCObservable><Info>1-1000G1g-L[SS0]-0T2-25 512 n re<|Info><|MCObservable>', '<MCObservable><Info>1-1000G1g-L[SS0]-0T2-25 612 n re<|Info><|MCObservable>', '<MCObservable><Info>1-1000G1g-L[SS0]-0T2-25 712 n re<|Info><|MCObservable>', '<MCObservable><Info>1-1000G1g-ROT-0T2-25 112 n re<|Info><|MCObservable>', '<MCObservable><Info>1-1000G1g-ROT-0T2-25 12 n re<|Info><|MCObservable>', '<MCObservable><Info>1-1000G1g-ROT-0T2-25 212 n re<|Info><|MCObservable>', '<MCObservable><Info>1-1000G1g-ROT-0T2-25 312 n re<|Info><|MCObservable>', '<MCObservable><Info>1-1000G1g-ROT-0T2-25 412 n re<|Info><|MCObservable>', '<MCObservable><Info>1-1000G1g-ROT-0T2-25 512 n re<|Info><|MCObservable>', '<MCObservable><Info>1-1000G1g-ROT-0T2-25 612 n re<|Info><|MCObservable>', '<MCObservable><Info>1-1000G1g-ROT-0T2-25 712 n re<|Info><|MCObservable>', '<MCObservable><Info>1-1000G1g-ROT-1T2-25 112 n re<|Info><|MCObservable>', '<MCObservable><Info>1-1000G1g-ROT-1T2-25 12 n re<|Info><|MCObservable>', '<MCObservable><Info>1-1000G1g-ROT-1T2-25 212 n re<|Info><|MCObservable>', '<MCObservable><Info>1-1000G1g-ROT-1T2-25 312 n re<|Info><|MCObservable>', '<MCObservable><Info>1-1000G1g-ROT-1T2-25 412 n re<|Info><|MCObservable>', '<MCObservable><Info>1-1000G1g-ROT-1T2-25 512 n re<|Info><|MCObservable>', '<MCObservable><Info>1-1000G1g-ROT-1T2-25 612 n re<|Info><|MCObservable>', '<MCObservable><Info>1-1000G1g-ROT-1T2-25 712 n re<|Info><|MCObservable>', '<MCObservable><Info>1-1000G1g-ROT-2T2-25 112 n re<|Info><|MCObservable>', '<MCObservable><Info>1-1000G1g-ROT-2T2-25 12 n re<|Info><|MCObservable>', '<MCObservable><Info>1-1000G1g-ROT-2T2-25 212 n re<|Info><|MCObservable>', '<MCObservable><Info>1-1000G1g-ROT-2T2-25 312 n re<|Info><|MCObservable>', '<MCObservable><Info>1-1000G1g-ROT-2T2-25 412 n re<|Info><|MCObservable>', '<MCObservable><Info>1-1000G1g-ROT-2T2-25 512 n re<|Info><|MCObservable>', '<MCObservable><Info>1-1000G1g-ROT-2T2-25 612 n re<|Info><|MCObservable>', '<MCObservable><Info>1-1000G1g-ROT-2T2-25 712 n re<|Info><|MCObservable>', '<MCObservable><Info>1-1000G1g-ROT-3T2-25 112 n re<|Info><|MCObservable>', '<MCObservable><Info>1-1000G1g-ROT-3T2-25 12 n re<|Info><|MCObservable>', '<MCObservable><Info>1-1000G1g-ROT-3T2-25 212 n re<|Info><|MCObservable>', '<MCObservable><Info>1-1000G1g-ROT-3T2-25 312 n re<|Info><|MCObservable>', '<MCObservable><Info>1-1000G1g-ROT-3T2-25 412 n re<|Info><|MCObservable>', '<MCObservable><Info>1-1000G1g-ROT-3T2-25 512 n re<|Info><|MCObservable>', '<MCObservable><Info>1-1000G1g-ROT-3T2-25 612 n re<|Info><|MCObservable>', '<MCObservable><Info>1-1000G1g-ROT-3T2-25 712 n re<|Info><|MCObservable>', '<MCObservable><Info>1-1000G1g-ROT-4T2-25 112 n re<|Info><|MCObservable>', '<MCObservable><Info>1-1000G1g-ROT-4T2-25 12 n re<|Info><|MCObservable>', '<MCObservable><Info>1-1000G1g-ROT-4T2-25 212 n re<|Info><|MCObservable>', '<MCObservable><Info>1-1000G1g-ROT-4T2-25 312 n re<|Info><|MCObservable>', '<MCObservable><Info>1-1000G1g-ROT-4T2-25 412 n re<|Info><|MCObservable>', '<MCObservable><Info>1-1000G1g-ROT-4T2-25 512 n re<|Info><|MCObservable>', '<MCObservable><Info>1-1000G1g-ROT-4T2-25 612 n re<|Info><|MCObservable>', '<MCObservable><Info>1-1000G1g-ROT-4T2-25 712 n re<|Info><|MCObservable>', '<MCObservable><Info>1-1000G1u-ROT-0T2-25 112 n re<|Info><|MCObservable>', '<MCObservable><Info>1-1000G1u-ROT-0T2-25 12 n re<|Info><|MCObservable>', '<MCObservable><Info>1-1000G1u-ROT-0T2-25 212 n re<|Info><|MCObservable>', '<MCObservable><Info>1-1000G1u-ROT-0T2-25 312 n re<|Info><|MCObservable>', '<MCObservable><Info>1-1000G1u-ROT-0T2-25 412 n re<|Info><|MCObservable>', '<MCObservable><Info>1-1000G1u-ROT-0T2-25 512 n re<|Info><|MCObservable>', '<MCObservable><Info>1-1000G1u-ROT-0T2-25 612 n re<|Info><|MCObservable>', '<MCObservable><Info>1-1000G1u-ROT-0T2-25 712 n re<|Info><|MCObservable>', '<MCObservable><Info>1-1000G1u-ROT-1T2-25 112 n re<|Info><|MCObservable>', '<MCObservable><Info>1-1000G1u-ROT-1T2-25 12 n re<|Info><|MCObservable>', '<MCObservable><Info>1-1000G1u-ROT-1T2-25 212 n re<|Info><|MCObservable>', '<MCObservable><Info>1-1000G1u-ROT-1T2-25 312 n re<|Info><|MCObservable>', '<MCObservable><Info>1-1000G1u-ROT-1T2-25 412 n re<|Info><|MCObservable>', '<MCObservable><Info>1-1000G1u-ROT-1T2-25 512 n re<|Info><|MCObservable>', '<MCObservable><Info>1-1000G1u-ROT-1T2-25 612 n re<|Info><|MCObservable>', '<MCObservable><Info>1-1000G1u-ROT-1T2-25 712 n re<|Info><|MCObservable>', '<MCObservable><Info>1-1000G1u-ROT-2T2-25 112 n re<|Info><|MCObservable>', '<MCObservable><Info>1-1000G1u-ROT-2T2-25 12 n re<|Info><|MCObservable>', '<MCObservable><Info>1-1000G1u-ROT-2T2-25 212 n re<|Info><|MCObservable>', '<MCObservable><Info>1-1000G1u-ROT-2T2-25 312 n re<|Info><|MCObservable>', '<MCObservable><Info>1-1000G1u-ROT-2T2-25 412 n re<|Info><|MCObservable>', '<MCObservable><Info>1-1000G1u-ROT-2T2-25 512 n re<|Info><|MCObservable>', '<MCObservable><Info>1-1000G1u-ROT-2T2-25 612 n re<|Info><|MCObservable>', '<MCObservable><Info>1-1000G1u-ROT-2T2-25 712 n re<|Info><|MCObservable>', '<MCObservable><Info>1-1000G1u-ROT-3T2-25 112 n re<|Info><|MCObservable>', '<MCObservable><Info>1-1000G1u-ROT-3T2-25 12 n re<|Info><|MCObservable>', '<MCObservable><Info>1-1000G1u-ROT-3T2-25 212 n re<|Info><|MCObservable>', '<MCObservable><Info>1-1000G1u-ROT-3T2-25 312 n re<|Info><|MCObservable>', '<MCObservable><Info>1-1000G1u-ROT-3T2-25 412 n re<|Info><|MCObservable>', '<MCObservable><Info>1-1000G1u-ROT-3T2-25 512 n re<|Info><|MCObservable>', '<MCObservable><Info>1-1000G1u-ROT-3T2-25 612 n re<|Info><|MCObservable>', '<MCObservable><Info>1-1000G1u-ROT-3T2-25 712 n re<|Info><|MCObservable>', '<MCObservable><Info>1-1000G1u-ROT-4T2-25 112 n re<|Info><|MCObservable>', '<MCObservable><Info>1-1000G1u-ROT-4T2-25 12 n re<|Info><|MCObservable>', '<MCObservable><Info>1-1000G1u-ROT-4T2-25 212 n re<|Info><|MCObservable>', '<MCObservable><Info>1-1000G1u-ROT-4T2-25 312 n re<|Info><|MCObservable>', '<MCObservable><Info>1-1000G1u-ROT-4T2-25 412 n re<|Info><|MCObservable>', '<MCObservable><Info>1-1000G1u-ROT-4T2-25 512 n re<|Info><|MCObservable>', '<MCObservable><Info>1-1000G1u-ROT-4T2-25 612 n re<|Info><|MCObservable>', '<MCObservable><Info>1-1000G1u-ROT-4T2-25 712 n re<|Info><|MCObservable>', '<MCObservable><Info>1-1000G1u-ROT-5T2-25 112 n re<|Info><|MCObservable>', '<MCObservable><Info>1-1000G1u-ROT-5T2-25 12 n re<|Info><|MCObservable>', '<MCObservable><Info>1-1000G1u-ROT-5T2-25 212 n re<|Info><|MCObservable>', '<MCObservable><Info>1-1000G1u-ROT-5T2-25 312 n re<|Info><|MCObservable>', '<MCObservable><Info>1-1000G1u-ROT-5T2-25 412 n re<|Info><|MCObservable>', '<MCObservable><Info>1-1000G1u-ROT-5T2-25 512 n re<|Info><|MCObservable>', '<MCObservable><Info>1-1000G1u-ROT-5T2-25 612 n re<|Info><|MCObservable>', '<MCObservable><Info>1-1000G1u-ROT-5T2-25 712 n re<|Info><|MCObservable>', '<MCObservable><Info>1-1000G1u-ROT-6T2-25 112 n re<|Info><|MCObservable>', '<MCObservable><Info>1-1000G1u-ROT-6T2-25 12 n re<|Info><|MCObservable>', '<MCObservable><Info>1-1000G1u-ROT-6T2-25 212 n re<|Info><|MCObservable>', '<MCObservable><Info>1-1000G1u-ROT-6T2-25 312 n re<|Info><|MCObservable>', '<MCObservable><Info>1-1000G1u-ROT-6T2-25 412 n re<|Info><|MCObservable>', '<MCObservable><Info>1-1000G1u-ROT-6T2-25 512 n re<|Info><|MCObservable>', '<MCObservable><Info>1-1000G1u-ROT-6T2-25 612 n re<|Info><|MCObservable>', '<MCObservable><Info>1-1000G1u-ROT-6T2-25 712 n re<|Info><|MCObservable>', '<MCObservable><Info>1-1000G1u-ROT-7T2-25 112 n re<|Info><|MCObservable>', '<MCObservable><Info>1-1000G1u-ROT-7T2-25 12 n re<|Info><|MCObservable>', '<MCObservable><Info>1-1000G1u-ROT-7T2-25 212 n re<|Info><|MCObservable>', '<MCObservable><Info>1-1000G1u-ROT-7T2-25 312 n re<|Info><|MCObservable>', '<MCObservable><Info>1-1000G1u-ROT-7T2-25 412 n re<|Info><|MCObservable>', '<MCObservable><Info>1-1000G1u-ROT-7T2-25 512 n re<|Info><|MCObservable>', '<MCObservable><Info>1-1000G1u-ROT-7T2-25 612 n re<|Info><|MCObservable>', '<MCObservable><Info>1-1000G1u-ROT-7T2-25 712 n re<|Info><|MCObservable>', '<MCObservable><Info>1-1000Hu-ROT-0T2-25 112 n re<|Info><|MCObservable>', '<MCObservable><Info>1-1000Hu-ROT-0T2-25 12 n re<|Info><|MCObservable>', '<MCObservable><Info>1-1000Hu-ROT-0T2-25 212 n re<|Info><|MCObservable>', '<MCObservable><Info>1-1000Hu-ROT-0T2-25 312 n re<|Info><|MCObservable>', '<MCObservable><Info>1-1000Hu-ROT-0T2-25 412 n re<|Info><|MCObservable>', '<MCObservable><Info>1-1000Hu-ROT-0T2-25 512 n re<|Info><|MCObservable>', '<MCObservable><Info>1-1000Hu-ROT-0T2-25 612 n re<|Info><|MCObservable>', '<MCObservable><Info>1-1000Hu-ROT-0T2-25 712 n re<|Info><|MCObservable>', '<MCObservable><Info>1-1000Hu-ROT-1T2-25 112 n re<|Info><|MCObservable>', '<MCObservable><Info>1-1000Hu-ROT-1T2-25 12 n re<|Info><|MCObservable>', '<MCObservable><Info>1-1000Hu-ROT-1T2-25 212 n re<|Info><|MCObservable>', '<MCObservable><Info>1-1000Hu-ROT-1T2-25 312 n re<|Info><|MCObservable>', '<MCObservable><Info>1-1000Hu-ROT-1T2-25 412 n re<|Info><|MCObservable>', '<MCObservable><Info>1-1000Hu-ROT-1T2-25 512 n re<|Info><|MCObservable>', '<MCObservable><Info>1-1000Hu-ROT-1T2-25 612 n re<|Info><|MCObservable>', '<MCObservable><Info>1-1000Hu-ROT-1T2-25 712 n re<|Info><|MCObservable>', '<MCObservable><Info>1-1000Hu-ROT-2T2-25 112 n re<|Info><|MCObservable>', '<MCObservable><Info>1-1000Hu-ROT-2T2-25 12 n re<|Info><|MCObservable>', '<MCObservable><Info>1-1000Hu-ROT-2T2-25 212 n re<|Info><|MCObservable>', '<MCObservable><Info>1-1000Hu-ROT-2T2-25 312 n re<|Info><|MCObservable>', '<MCObservable><Info>1-1000Hu-ROT-2T2-25 412 n re<|Info><|MCObservable>', '<MCObservable><Info>1-1000Hu-ROT-2T2-25 512 n re<|Info><|MCObservable>', '<MCObservable><Info>1-1000Hu-ROT-2T2-25 612 n re<|Info><|MCObservable>', '<MCObservable><Info>1-1000Hu-ROT-2T2-25 712 n re<|Info><|MCObservable>', '<MCObservable><Info>1-1p1G1-ROT-0T2-25 112 n re<|Info><|MCObservable>', '<MCObservable><Info>1-1p1G1-ROT-0T2-25 12 n re<|Info><|MCObservable>', '<MCObservable><Info>1-1p1G1-ROT-0T2-25 212 n re<|Info><|MCObservable>', '<MCObservable><Info>1-1p1G1-ROT-0T2-25 312 n re<|Info><|MCObservable>', '<MCObservable><Info>1-1p1G1-ROT-0T2-25 412 n re<|Info><|MCObservable>', '<MCObservable><Info>1-1p1G1-ROT-0T2-25 512 n re<|Info><|MCObservable>', '<MCObservable><Info>1-1p1G1-ROT-0T2-25 612 n re<|Info><|MCObservable>', '<MCObservable><Info>1-1p1G1-ROT-0T2-25 712 n re<|Info><|MCObservable>', '<MCObservable><Info>1-1p1G1-ROT-1T2-25 112 n re<|Info><|MCObservable>', '<MCObservable><Info>1-1p1G1-ROT-1T2-25 12 n re<|Info><|MCObservable>', '<MCObservable><Info>1-1p1G1-ROT-1T2-25 212 n re<|Info><|MCObservable>', '<MCObservable><Info>1-1p1G1-ROT-1T2-25 312 n re<|Info><|MCObservable>', '<MCObservable><Info>1-1p1G1-ROT-1T2-25 412 n re<|Info><|MCObservable>', '<MCObservable><Info>1-1p1G1-ROT-1T2-25 512 n re<|Info><|MCObservable>', '<MCObservable><Info>1-1p1G1-ROT-1T2-25 612 n re<|Info><|MCObservable>', '<MCObservable><Info>1-1p1G1-ROT-1T2-25 712 n re<|Info><|MCObservable>', '<MCObservable><Info>1-1p1G1-ROT-2T2-25 112 n re<|Info><|MCObservable>', '<MCObservable><Info>1-1p1G1-ROT-2T2-25 12 n re<|Info><|MCObservable>', '<MCObservable><Info>1-1p1G1-ROT-2T2-25 212 n re<|Info><|MCObservable>', '<MCObservable><Info>1-1p1G1-ROT-2T2-25 312 n re<|Info><|MCObservable>', '<MCObservable><Info>1-1p1G1-ROT-2T2-25 412 n re<|Info><|MCObservable>', '<MCObservable><Info>1-1p1G1-ROT-2T2-25 512 n re<|Info><|MCObservable>', '<MCObservable><Info>1-1p1G1-ROT-2T2-25 612 n re<|Info><|MCObservable>', '<MCObservable><Info>1-1p1G1-ROT-2T2-25 712 n re<|Info><|MCObservable>', '<MCObservable><Info>1-1p1G1-ROT-3T2-25 112 n re<|Info><|MCObservable>', '<MCObservable><Info>1-1p1G1-ROT-3T2-25 12 n re<|Info><|MCObservable>', '<MCObservable><Info>1-1p1G1-ROT-3T2-25 212 n re<|Info><|MCObservable>', '<MCObservable><Info>1-1p1G1-ROT-3T2-25 312 n re<|Info><|MCObservable>', '<MCObservable><Info>1-1p1G1-ROT-3T2-25 412 n re<|Info><|MCObservable>', '<MCObservable><Info>1-1p1G1-ROT-3T2-25 512 n re<|Info><|MCObservable>', '<MCObservable><Info>1-1p1G1-ROT-3T2-25 612 n re<|Info><|MCObservable>', '<MCObservable><Info>1-1p1G1-ROT-3T2-25 712 n re<|Info><|MCObservable>', '<MCObservable><Info>1-1p1G1-ROT-4T2-25 112 n re<|Info><|MCObservable>', '<MCObservable><Info>1-1p1G1-ROT-4T2-25 12 n re<|Info><|MCObservable>', '<MCObservable><Info>1-1p1G1-ROT-4T2-25 212 n re<|Info><|MCObservable>', '<MCObservable><Info>1-1p1G1-ROT-4T2-25 312 n re<|Info><|MCObservable>', '<MCObservable><Info>1-1p1G1-ROT-4T2-25 412 n re<|Info><|MCObservable>', '<MCObservable><Info>1-1p1G1-ROT-4T2-25 512 n re<|Info><|MCObservable>', '<MCObservable><Info>1-1p1G1-ROT-4T2-25 612 n re<|Info><|MCObservable>', '<MCObservable><Info>1-1p1G1-ROT-4T2-25 712 n re<|Info><|MCObservable>', '<MCObservable><Info>1-1p1G1-ROT-5T2-25 112 n re<|Info><|MCObservable>', '<MCObservable><Info>1-1p1G1-ROT-5T2-25 12 n re<|Info><|MCObservable>', '<MCObservable><Info>1-1p1G1-ROT-5T2-25 212 n re<|Info><|MCObservable>', '<MCObservable><Info>1-1p1G1-ROT-5T2-25 312 n re<|Info><|MCObservable>', '<MCObservable><Info>1-1p1G1-ROT-5T2-25 412 n re<|Info><|MCObservable>', '<MCObservable><Info>1-1p1G1-ROT-5T2-25 512 n re<|Info><|MCObservable>', '<MCObservable><Info>1-1p1G1-ROT-5T2-25 612 n re<|Info><|MCObservable>', '<MCObservable><Info>1-1p1G1-ROT-5T2-25 712 n re<|Info><|MCObservable>', '<MCObservable><Info>1-1p1G1-ROT-6T2-25 112 n re<|Info><|MCObservable>', '<MCObservable><Info>1-1p1G1-ROT-6T2-25 12 n re<|Info><|MCObservable>', '<MCObservable><Info>1-1p1G1-ROT-6T2-25 212 n re<|Info><|MCObservable>', '<MCObservable><Info>1-1p1G1-ROT-6T2-25 312 n re<|Info><|MCObservable>', '<MCObservable><Info>1-1p1G1-ROT-6T2-25 412 n re<|Info><|MCObservable>', '<MCObservable><Info>1-1p1G1-ROT-6T2-25 512 n re<|Info><|MCObservable>', '<MCObservable><Info>1-1p1G1-ROT-6T2-25 612 n re<|Info><|MCObservable>', '<MCObservable><Info>1-1p1G1-ROT-6T2-25 712 n re<|Info><|MCObservable>', '<MCObservable><Info>1-1p1G1-ROT-7T2-25 112 n re<|Info><|MCObservable>', '<MCObservable><Info>1-1p1G1-ROT-7T2-25 12 n re<|Info><|MCObservable>', '<MCObservable><Info>1-1p1G1-ROT-7T2-25 212 n re<|Info><|MCObservable>', '<MCObservable><Info>1-1p1G1-ROT-7T2-25 312 n re<|Info><|MCObservable>', '<MCObservable><Info>1-1p1G1-ROT-7T2-25 412 n re<|Info><|MCObservable>', '<MCObservable><Info>1-1p1G1-ROT-7T2-25 512 n re<|Info><|MCObservable>', '<MCObservable><Info>1-1p1G1-ROT-7T2-25 612 n re<|Info><|MCObservable>', '<MCObservable><Info>1-1p1G1-ROT-7T2-25 712 n re<|Info><|MCObservable>', '<MCObservable><Info>1-1p1G1-ROT-8T2-25 112 n re<|Info><|MCObservable>', '<MCObservable><Info>1-1p1G1-ROT-8T2-25 12 n re<|Info><|MCObservable>', '<MCObservable><Info>1-1p1G1-ROT-8T2-25 212 n re<|Info><|MCObservable>', '<MCObservable><Info>1-1p1G1-ROT-8T2-25 312 n re<|Info><|MCObservable>', '<MCObservable><Info>1-1p1G1-ROT-8T2-25 412 n re<|Info><|MCObservable>', '<MCObservable><Info>1-1p1G1-ROT-8T2-25 512 n re<|Info><|MCObservable>', '<MCObservable><Info>1-1p1G1-ROT-8T2-25 612 n re<|Info><|MCObservable>', '<MCObservable><Info>1-1p1G1-ROT-8T2-25 712 n re<|Info><|MCObservable>', '<MCObservable><Info>1-1p1G2-ROT-0T2-25 112 n re<|Info><|MCObservable>', '<MCObservable><Info>1-1p1G2-ROT-0T2-25 12 n re<|Info><|MCObservable>', '<MCObservable><Info>1-1p1G2-ROT-0T2-25 212 n re<|Info><|MCObservable>', '<MCObservable><Info>1-1p1G2-ROT-0T2-25 312 n re<|Info><|MCObservable>', '<MCObservable><Info>1-1p1G2-ROT-0T2-25 412 n re<|Info><|MCObservable>', '<MCObservable><Info>1-1p1G2-ROT-0T2-25 512 n re<|Info><|MCObservable>', '<MCObservable><Info>1-1p1G2-ROT-0T2-25 612 n re<|Info><|MCObservable>', '<MCObservable><Info>1-1p1G2-ROT-0T2-25 712 n re<|Info><|MCObservable>', '<MCObservable><Info>1-1p1G2-ROT-1T2-25 112 n re<|Info><|MCObservable>', '<MCObservable><Info>1-1p1G2-ROT-1T2-25 12 n re<|Info><|MCObservable>', '<MCObservable><Info>1-1p1G2-ROT-1T2-25 212 n re<|Info><|MCObservable>', '<MCObservable><Info>1-1p1G2-ROT-1T2-25 312 n re<|Info><|MCObservable>', '<MCObservable><Info>1-1p1G2-ROT-1T2-25 412 n re<|Info><|MCObservable>', '<MCObservable><Info>1-1p1G2-ROT-1T2-25 512 n re<|Info><|MCObservable>', '<MCObservable><Info>1-1p1G2-ROT-1T2-25 612 n re<|Info><|MCObservable>', '<MCObservable><Info>1-1p1G2-ROT-1T2-25 712 n re<|Info><|MCObservable>', '<MCObservable><Info>1-1p1G2-ROT-2T2-25 112 n re<|Info><|MCObservable>', '<MCObservable><Info>1-1p1G2-ROT-2T2-25 12 n re<|Info><|MCObservable>', '<MCObservable><Info>1-1p1G2-ROT-2T2-25 212 n re<|Info><|MCObservable>', '<MCObservable><Info>1-1p1G2-ROT-2T2-25 312 n re<|Info><|MCObservable>', '<MCObservable><Info>1-1p1G2-ROT-2T2-25 412 n re<|Info><|MCObservable>', '<MCObservable><Info>1-1p1G2-ROT-2T2-25 512 n re<|Info><|MCObservable>', '<MCObservable><Info>1-1p1G2-ROT-2T2-25 612 n re<|Info><|MCObservable>', '<MCObservable><Info>1-1p1G2-ROT-2T2-25 712 n re<|Info><|MCObservable>', '<MCObservable><Info>1-1p1G2-ROT-3T2-25 112 n re<|Info><|MCObservable>', '<MCObservable><Info>1-1p1G2-ROT-3T2-25 12 n re<|Info><|MCObservable>', '<MCObservable><Info>1-1p1G2-ROT-3T2-25 212 n re<|Info><|MCObservable>', '<MCObservable><Info>1-1p1G2-ROT-3T2-25 312 n re<|Info><|MCObservable>', '<MCObservable><Info>1-1p1G2-ROT-3T2-25 412 n re<|Info><|MCObservable>', '<MCObservable><Info>1-1p1G2-ROT-3T2-25 512 n re<|Info><|MCObservable>', '<MCObservable><Info>1-1p1G2-ROT-3T2-25 612 n re<|Info><|MCObservable>', '<MCObservable><Info>1-1p1G2-ROT-3T2-25 712 n re<|Info><|MCObservable>', '<MCObservable><Info>1-1p1G2-ROT-4T2-25 112 n re<|Info><|MCObservable>', '<MCObservable><Info>1-1p1G2-ROT-4T2-25 12 n re<|Info><|MCObservable>', '<MCObservable><Info>1-1p1G2-ROT-4T2-25 212 n re<|Info><|MCObservable>', '<MCObservable><Info>1-1p1G2-ROT-4T2-25 312 n re<|Info><|MCObservable>', '<MCObservable><Info>1-1p1G2-ROT-4T2-25 412 n re<|Info><|MCObservable>', '<MCObservable><Info>1-1p1G2-ROT-4T2-25 512 n re<|Info><|MCObservable>', '<MCObservable><Info>1-1p1G2-ROT-4T2-25 612 n re<|Info><|MCObservable>', '<MCObservable><Info>1-1p1G2-ROT-4T2-25 712 n re<|Info><|MCObservable>', '<MCObservable><Info>1-1p1G2-ROT-5T2-25 112 n re<|Info><|MCObservable>', '<MCObservable><Info>1-1p1G2-ROT-5T2-25 12 n re<|Info><|MCObservable>', '<MCObservable><Info>1-1p1G2-ROT-5T2-25 212 n re<|Info><|MCObservable>', '<MCObservable><Info>1-1p1G2-ROT-5T2-25 312 n re<|Info><|MCObservable>', '<MCObservable><Info>1-1p1G2-ROT-5T2-25 412 n re<|Info><|MCObservable>', '<MCObservable><Info>1-1p1G2-ROT-5T2-25 512 n re<|Info><|MCObservable>', '<MCObservable><Info>1-1p1G2-ROT-5T2-25 612 n re<|Info><|MCObservable>', '<MCObservable><Info>1-1p1G2-ROT-5T2-25 712 n re<|Info><|MCObservable>', '<MCObservable><Info>1-1p1G2-ROT-6T2-25 112 n re<|Info><|MCObservable>', '<MCObservable><Info>1-1p1G2-ROT-6T2-25 12 n re<|Info><|MCObservable>', '<MCObservable><Info>1-1p1G2-ROT-6T2-25 212 n re<|Info><|MCObservable>', '<MCObservable><Info>1-1p1G2-ROT-6T2-25 312 n re<|Info><|MCObservable>', '<MCObservable><Info>1-1p1G2-ROT-6T2-25 412 n re<|Info><|MCObservable>', '<MCObservable><Info>1-1p1G2-ROT-6T2-25 512 n re<|Info><|MCObservable>', '<MCObservable><Info>1-1p1G2-ROT-6T2-25 612 n re<|Info><|MCObservable>', '<MCObservable><Info>1-1p1G2-ROT-6T2-25 712 n re<|Info><|MCObservable>', '<MCObservable><Info>1-1p2G-ROT-0T2-25 112 n re<|Info><|MCObservable>', '<MCObservable><Info>1-1p2G-ROT-0T2-25 12 n re<|Info><|MCObservable>', '<MCObservable><Info>1-1p2G-ROT-0T2-25 212 n re<|Info><|MCObservable>', '<MCObservable><Info>1-1p2G-ROT-0T2-25 312 n re<|Info><|MCObservable>', '<MCObservable><Info>1-1p2G-ROT-0T2-25 412 n re<|Info><|MCObservable>', '<MCObservable><Info>1-1p2G-ROT-0T2-25 512 n re<|Info><|MCObservable>', '<MCObservable><Info>1-1p2G-ROT-0T2-25 612 n re<|Info><|MCObservable>', '<MCObservable><Info>1-1p2G-ROT-0T2-25 712 n re<|Info><|MCObservable>', '<MCObservable><Info>1-1p2G-ROT-10T2-25 112 n re<|Info><|MCObservable>', '<MCObservable><Info>1-1p2G-ROT-10T2-25 12 n re<|Info><|MCObservable>', '<MCObservable><Info>1-1p2G-ROT-10T2-25 212 n re<|Info><|MCObservable>', '<MCObservable><Info>1-1p2G-ROT-10T2-25 312 n re<|Info><|MCObservable>', '<MCObservable><Info>1-1p2G-ROT-10T2-25 412 n re<|Info><|MCObservable>', '<MCObservable><Info>1-1p2G-ROT-10T2-25 512 n re<|Info><|MCObservable>', '<MCObservable><Info>1-1p2G-ROT-10T2-25 612 n re<|Info><|MCObservable>', '<MCObservable><Info>1-1p2G-ROT-10T2-25 712 n re<|Info><|MCObservable>', '<MCObservable><Info>1-1p2G-ROT-11T2-25 112 n re<|Info><|MCObservable>', '<MCObservable><Info>1-1p2G-ROT-11T2-25 12 n re<|Info><|MCObservable>', '<MCObservable><Info>1-1p2G-ROT-11T2-25 212 n re<|Info><|MCObservable>', '<MCObservable><Info>1-1p2G-ROT-11T2-25 312 n re<|Info><|MCObservable>', '<MCObservable><Info>1-1p2G-ROT-11T2-25 412 n re<|Info><|MCObservable>', '<MCObservable><Info>1-1p2G-ROT-11T2-25 512 n re<|Info><|MCObservable>', '<MCObservable><Info>1-1p2G-ROT-11T2-25 612 n re<|Info><|MCObservable>', '<MCObservable><Info>1-1p2G-ROT-11T2-25 712 n re<|Info><|MCObservable>', '<MCObservable><Info>1-1p2G-ROT-12T2-25 112 n re<|Info><|MCObservable>', '<MCObservable><Info>1-1p2G-ROT-12T2-25 12 n re<|Info><|MCObservable>', '<MCObservable><Info>1-1p2G-ROT-12T2-25 212 n re<|Info><|MCObservable>', '<MCObservable><Info>1-1p2G-ROT-12T2-25 312 n re<|Info><|MCObservable>', '<MCObservable><Info>1-1p2G-ROT-12T2-25 412 n re<|Info><|MCObservable>', '<MCObservable><Info>1-1p2G-ROT-12T2-25 512 n re<|Info><|MCObservable>', '<MCObservable><Info>1-1p2G-ROT-12T2-25 612 n re<|Info><|MCObservable>', '<MCObservable><Info>1-1p2G-ROT-12T2-25 712 n re<|Info><|MCObservable>', '<MCObservable><Info>1-1p2G-ROT-13T2-25 112 n re<|Info><|MCObservable>', '<MCObservable><Info>1-1p2G-ROT-13T2-25 12 n re<|Info><|MCObservable>', '<MCObservable><Info>1-1p2G-ROT-13T2-25 212 n re<|Info><|MCObservable>', '<MCObservable><Info>1-1p2G-ROT-13T2-25 312 n re<|Info><|MCObservable>', '<MCObservable><Info>1-1p2G-ROT-13T2-25 412 n re<|Info><|MCObservable>', '<MCObservable><Info>1-1p2G-ROT-13T2-25 512 n re<|Info><|MCObservable>', '<MCObservable><Info>1-1p2G-ROT-13T2-25 612 n re<|Info><|MCObservable>', '<MCObservable><Info>1-1p2G-ROT-13T2-25 712 n re<|Info><|MCObservable>', '<MCObservable><Info>1-1p2G-ROT-14T2-25 112 n re<|Info><|MCObservable>', '<MCObservable><Info>1-1p2G-ROT-14T2-25 12 n re<|Info><|MCObservable>', '<MCObservable><Info>1-1p2G-ROT-14T2-25 212 n re<|Info><|MCObservable>', '<MCObservable><Info>1-1p2G-ROT-14T2-25 312 n re<|Info><|MCObservable>', '<MCObservable><Info>1-1p2G-ROT-14T2-25 412 n re<|Info><|MCObservable>', '<MCObservable><Info>1-1p2G-ROT-14T2-25 512 n re<|Info><|MCObservable>', '<MCObservable><Info>1-1p2G-ROT-14T2-25 612 n re<|Info><|MCObservable>', '<MCObservable><Info>1-1p2G-ROT-14T2-25 712 n re<|Info><|MCObservable>', '<MCObservable><Info>1-1p2G-ROT-1T2-25 112 n re<|Info><|MCObservable>', '<MCObservable><Info>1-1p2G-ROT-1T2-25 12 n re<|Info><|MCObservable>', '<MCObservable><Info>1-1p2G-ROT-1T2-25 212 n re<|Info><|MCObservable>', '<MCObservable><Info>1-1p2G-ROT-1T2-25 312 n re<|Info><|MCObservable>', '<MCObservable><Info>1-1p2G-ROT-1T2-25 412 n re<|Info><|MCObservable>', '<MCObservable><Info>1-1p2G-ROT-1T2-25 512 n re<|Info><|MCObservable>', '<MCObservable><Info>1-1p2G-ROT-1T2-25 612 n re<|Info><|MCObservable>', '<MCObservable><Info>1-1p2G-ROT-1T2-25 712 n re<|Info><|MCObservable>', '<MCObservable><Info>1-1p2G-ROT-2T2-25 112 n re<|Info><|MCObservable>', '<MCObservable><Info>1-1p2G-ROT-2T2-25 12 n re<|Info><|MCObservable>', '<MCObservable><Info>1-1p2G-ROT-2T2-25 212 n re<|Info><|MCObservable>', '<MCObservable><Info>1-1p2G-ROT-2T2-25 312 n re<|Info><|MCObservable>', '<MCObservable><Info>1-1p2G-ROT-2T2-25 412 n re<|Info><|MCObservable>', '<MCObservable><Info>1-1p2G-ROT-2T2-25 512 n re<|Info><|MCObservable>', '<MCObservable><Info>1-1p2G-ROT-2T2-25 612 n re<|Info><|MCObservable>', '<MCObservable><Info>1-1p2G-ROT-2T2-25 712 n re<|Info><|MCObservable>', '<MCObservable><Info>1-1p2G-ROT-3T2-25 112 n re<|Info><|MCObservable>', '<MCObservable><Info>1-1p2G-ROT-3T2-25 12 n re<|Info><|MCObservable>', '<MCObservable><Info>1-1p2G-ROT-3T2-25 212 n re<|Info><|MCObservable>', '<MCObservable><Info>1-1p2G-ROT-3T2-25 312 n re<|Info><|MCObservable>', '<MCObservable><Info>1-1p2G-ROT-3T2-25 412 n re<|Info><|MCObservable>', '<MCObservable><Info>1-1p2G-ROT-3T2-25 512 n re<|Info><|MCObservable>', '<MCObservable><Info>1-1p2G-ROT-3T2-25 612 n re<|Info><|MCObservable>', '<MCObservable><Info>1-1p2G-ROT-3T2-25 712 n re<|Info><|MCObservable>', '<MCObservable><Info>1-1p2G-ROT-4T2-25 112 n re<|Info><|MCObservable>', '<MCObservable><Info>1-1p2G-ROT-4T2-25 12 n re<|Info><|MCObservable>', '<MCObservable><Info>1-1p2G-ROT-4T2-25 212 n re<|Info><|MCObservable>', '<MCObservable><Info>1-1p2G-ROT-4T2-25 312 n re<|Info><|MCObservable>', '<MCObservable><Info>1-1p2G-ROT-4T2-25 412 n re<|Info><|MCObservable>', '<MCObservable><Info>1-1p2G-ROT-4T2-25 512 n re<|Info><|MCObservable>', '<MCObservable><Info>1-1p2G-ROT-4T2-25 612 n re<|Info><|MCObservable>', '<MCObservable><Info>1-1p2G-ROT-4T2-25 712 n re<|Info><|MCObservable>', '<MCObservable><Info>1-1p2G-ROT-5T2-25 112 n re<|Info><|MCObservable>', '<MCObservable><Info>1-1p2G-ROT-5T2-25 12 n re<|Info><|MCObservable>', '<MCObservable><Info>1-1p2G-ROT-5T2-25 212 n re<|Info><|MCObservable>', '<MCObservable><Info>1-1p2G-ROT-5T2-25 312 n re<|Info><|MCObservable>', '<MCObservable><Info>1-1p2G-ROT-5T2-25 412 n re<|Info><|MCObservable>', '<MCObservable><Info>1-1p2G-ROT-5T2-25 512 n re<|Info><|MCObservable>', '<MCObservable><Info>1-1p2G-ROT-5T2-25 612 n re<|Info><|MCObservable>', '<MCObservable><Info>1-1p2G-ROT-5T2-25 712 n re<|Info><|MCObservable>', '<MCObservable><Info>1-1p2G-ROT-6T2-25 112 n re<|Info><|MCObservable>', '<MCObservable><Info>1-1p2G-ROT-6T2-25 12 n re<|Info><|MCObservable>', '<MCObservable><Info>1-1p2G-ROT-6T2-25 212 n re<|Info><|MCObservable>', '<MCObservable><Info>1-1p2G-ROT-6T2-25 312 n re<|Info><|MCObservable>', '<MCObservable><Info>1-1p2G-ROT-6T2-25 412 n re<|Info><|MCObservable>', '<MCObservable><Info>1-1p2G-ROT-6T2-25 512 n re<|Info><|MCObservable>', '<MCObservable><Info>1-1p2G-ROT-6T2-25 612 n re<|Info><|MCObservable>', '<MCObservable><Info>1-1p2G-ROT-6T2-25 712 n re<|Info><|MCObservable>', '<MCObservable><Info>1-1p2G-ROT-7T2-25 112 n re<|Info><|MCObservable>', '<MCObservable><Info>1-1p2G-ROT-7T2-25 12 n re<|Info><|MCObservable>', '<MCObservable><Info>1-1p2G-ROT-7T2-25 212 n re<|Info><|MCObservable>', '<MCObservable><Info>1-1p2G-ROT-7T2-25 312 n re<|Info><|MCObservable>', '<MCObservable><Info>1-1p2G-ROT-7T2-25 412 n re<|Info><|MCObservable>', '<MCObservable><Info>1-1p2G-ROT-7T2-25 512 n re<|Info><|MCObservable>', '<MCObservable><Info>1-1p2G-ROT-7T2-25 612 n re<|Info><|MCObservable>', '<MCObservable><Info>1-1p2G-ROT-7T2-25 712 n re<|Info><|MCObservable>', '<MCObservable><Info>1-1p2G-ROT-8T2-25 112 n re<|Info><|MCObservable>', '<MCObservable><Info>1-1p2G-ROT-8T2-25 12 n re<|Info><|MCObservable>', '<MCObservable><Info>1-1p2G-ROT-8T2-25 212 n re<|Info><|MCObservable>', '<MCObservable><Info>1-1p2G-ROT-8T2-25 312 n re<|Info><|MCObservable>', '<MCObservable><Info>1-1p2G-ROT-8T2-25 412 n re<|Info><|MCObservable>', '<MCObservable><Info>1-1p2G-ROT-8T2-25 512 n re<|Info><|MCObservable>', '<MCObservable><Info>1-1p2G-ROT-8T2-25 612 n re<|Info><|MCObservable>', '<MCObservable><Info>1-1p2G-ROT-8T2-25 712 n re<|Info><|MCObservable>', '<MCObservable><Info>1-1p2G-ROT-9T2-25 112 n re<|Info><|MCObservable>', '<MCObservable><Info>1-1p2G-ROT-9T2-25 12 n re<|Info><|MCObservable>', '<MCObservable><Info>1-1p2G-ROT-9T2-25 212 n re<|Info><|MCObservable>', '<MCObservable><Info>1-1p2G-ROT-9T2-25 312 n re<|Info><|MCObservable>', '<MCObservable><Info>1-1p2G-ROT-9T2-25 412 n re<|Info><|MCObservable>', '<MCObservable><Info>1-1p2G-ROT-9T2-25 512 n re<|Info><|MCObservable>', '<MCObservable><Info>1-1p2G-ROT-9T2-25 612 n re<|Info><|MCObservable>', '<MCObservable><Info>1-1p2G-ROT-9T2-25 712 n re<|Info><|MCObservable>', '<MCObservable><Info>1-1p3F1-ROT-0T2-25 112 n re<|Info><|MCObservable>', '<MCObservable><Info>1-1p3F1-ROT-0T2-25 12 n re<|Info><|MCObservable>', '<MCObservable><Info>1-1p3F1-ROT-0T2-25 212 n re<|Info><|MCObservable>', '<MCObservable><Info>1-1p3F1-ROT-0T2-25 312 n re<|Info><|MCObservable>', '<MCObservable><Info>1-1p3F1-ROT-0T2-25 412 n re<|Info><|MCObservable>', '<MCObservable><Info>1-1p3F1-ROT-0T2-25 512 n re<|Info><|MCObservable>', '<MCObservable><Info>1-1p3F1-ROT-0T2-25 612 n re<|Info><|MCObservable>', '<MCObservable><Info>1-1p3F1-ROT-0T2-25 712 n re<|Info><|MCObservable>', '<MCObservable><Info>1-1p3F1-ROT-1T2-25 112 n re<|Info><|MCObservable>', '<MCObservable><Info>1-1p3F1-ROT-1T2-25 12 n re<|Info><|MCObservable>', '<MCObservable><Info>1-1p3F1-ROT-1T2-25 212 n re<|Info><|MCObservable>', '<MCObservable><Info>1-1p3F1-ROT-1T2-25 312 n re<|Info><|MCObservable>', '<MCObservable><Info>1-1p3F1-ROT-1T2-25 412 n re<|Info><|MCObservable>', '<MCObservable><Info>1-1p3F1-ROT-1T2-25 512 n re<|Info><|MCObservable>', '<MCObservable><Info>1-1p3F1-ROT-1T2-25 612 n re<|Info><|MCObservable>', '<MCObservable><Info>1-1p3F1-ROT-1T2-25 712 n re<|Info><|MCObservable>', '<MCObservable><Info>1-1p3F1-ROT-2T2-25 112 n re<|Info><|MCObservable>', '<MCObservable><Info>1-1p3F1-ROT-2T2-25 12 n re<|Info><|MCObservable>', '<MCObservable><Info>1-1p3F1-ROT-2T2-25 212 n re<|Info><|MCObservable>', '<MCObservable><Info>1-1p3F1-ROT-2T2-25 312 n re<|Info><|MCObservable>', '<MCObservable><Info>1-1p3F1-ROT-2T2-25 412 n re<|Info><|MCObservable>', '<MCObservable><Info>1-1p3F1-ROT-2T2-25 512 n re<|Info><|MCObservable>', '<MCObservable><Info>1-1p3F1-ROT-2T2-25 612 n re<|Info><|MCObservable>', '<MCObservable><Info>1-1p3F1-ROT-2T2-25 712 n re<|Info><|MCObservable>', '<MCObservable><Info>1-1p3F1-ROT-3T2-25 112 n re<|Info><|MCObservable>', '<MCObservable><Info>1-1p3F1-ROT-3T2-25 12 n re<|Info><|MCObservable>', '<MCObservable><Info>1-1p3F1-ROT-3T2-25 212 n re<|Info><|MCObservable>', '<MCObservable><Info>1-1p3F1-ROT-3T2-25 312 n re<|Info><|MCObservable>', '<MCObservable><Info>1-1p3F1-ROT-3T2-25 412 n re<|Info><|MCObservable>', '<MCObservable><Info>1-1p3F1-ROT-3T2-25 512 n re<|Info><|MCObservable>', '<MCObservable><Info>1-1p3F1-ROT-3T2-25 612 n re<|Info><|MCObservable>', '<MCObservable><Info>1-1p3F1-ROT-3T2-25 712 n re<|Info><|MCObservable>', '<MCObservable><Info>1-1p3F1-ROT-4T2-25 112 n re<|Info><|MCObservable>', '<MCObservable><Info>1-1p3F1-ROT-4T2-25 12 n re<|Info><|MCObservable>', '<MCObservable><Info>1-1p3F1-ROT-4T2-25 212 n re<|Info><|MCObservable>', '<MCObservable><Info>1-1p3F1-ROT-4T2-25 312 n re<|Info><|MCObservable>', '<MCObservable><Info>1-1p3F1-ROT-4T2-25 412 n re<|Info><|MCObservable>', '<MCObservable><Info>1-1p3F1-ROT-4T2-25 512 n re<|Info><|MCObservable>', '<MCObservable><Info>1-1p3F1-ROT-4T2-25 612 n re<|Info><|MCObservable>', '<MCObservable><Info>1-1p3F1-ROT-4T2-25 712 n re<|Info><|MCObservable>', '<MCObservable><Info>1-1p3F1-ROT-5T2-25 112 n re<|Info><|MCObservable>', '<MCObservable><Info>1-1p3F1-ROT-5T2-25 12 n re<|Info><|MCObservable>', '<MCObservable><Info>1-1p3F1-ROT-5T2-25 212 n re<|Info><|MCObservable>', '<MCObservable><Info>1-1p3F1-ROT-5T2-25 312 n re<|Info><|MCObservable>', '<MCObservable><Info>1-1p3F1-ROT-5T2-25 412 n re<|Info><|MCObservable>', '<MCObservable><Info>1-1p3F1-ROT-5T2-25 512 n re<|Info><|MCObservable>', '<MCObservable><Info>1-1p3F1-ROT-5T2-25 612 n re<|Info><|MCObservable>', '<MCObservable><Info>1-1p3F1-ROT-5T2-25 712 n re<|Info><|MCObservable>', '<MCObservable><Info>1-1p3F2-ROT-0T2-25 112 n re<|Info><|MCObservable>', '<MCObservable><Info>1-1p3F2-ROT-0T2-25 12 n re<|Info><|MCObservable>', '<MCObservable><Info>1-1p3F2-ROT-0T2-25 212 n re<|Info><|MCObservable>', '<MCObservable><Info>1-1p3F2-ROT-0T2-25 312 n re<|Info><|MCObservable>', '<MCObservable><Info>1-1p3F2-ROT-0T2-25 412 n re<|Info><|MCObservable>', '<MCObservable><Info>1-1p3F2-ROT-0T2-25 512 n re<|Info><|MCObservable>', '<MCObservable><Info>1-1p3F2-ROT-0T2-25 612 n re<|Info><|MCObservable>', '<MCObservable><Info>1-1p3F2-ROT-0T2-25 712 n re<|Info><|MCObservable>', '<MCObservable><Info>1-1p3F2-ROT-1T2-25 112 n re<|Info><|MCObservable>', '<MCObservable><Info>1-1p3F2-ROT-1T2-25 12 n re<|Info><|MCObservable>', '<MCObservable><Info>1-1p3F2-ROT-1T2-25 212 n re<|Info><|MCObservable>', '<MCObservable><Info>1-1p3F2-ROT-1T2-25 312 n re<|Info><|MCObservable>', '<MCObservable><Info>1-1p3F2-ROT-1T2-25 412 n re<|Info><|MCObservable>', '<MCObservable><Info>1-1p3F2-ROT-1T2-25 512 n re<|Info><|MCObservable>', '<MCObservable><Info>1-1p3F2-ROT-1T2-25 612 n re<|Info><|MCObservable>', '<MCObservable><Info>1-1p3F2-ROT-1T2-25 712 n re<|Info><|MCObservable>', '<MCObservable><Info>1-1p3F2-ROT-2T2-25 112 n re<|Info><|MCObservable>', '<MCObservable><Info>1-1p3F2-ROT-2T2-25 12 n re<|Info><|MCObservable>', '<MCObservable><Info>1-1p3F2-ROT-2T2-25 212 n re<|Info><|MCObservable>', '<MCObservable><Info>1-1p3F2-ROT-2T2-25 312 n re<|Info><|MCObservable>', '<MCObservable><Info>1-1p3F2-ROT-2T2-25 412 n re<|Info><|MCObservable>', '<MCObservable><Info>1-1p3F2-ROT-2T2-25 512 n re<|Info><|MCObservable>', '<MCObservable><Info>1-1p3F2-ROT-2T2-25 612 n re<|Info><|MCObservable>', '<MCObservable><Info>1-1p3F2-ROT-2T2-25 712 n re<|Info><|MCObservable>', '<MCObservable><Info>1-1p3F2-ROT-3T2-21 112 n re<|Info><|MCObservable>', '<MCObservable><Info>1-1p3F2-ROT-3T2-21 12 n re<|Info><|MCObservable>', '<MCObservable><Info>1-1p3F2-ROT-3T2-21 212 n re<|Info><|MCObservable>', '<MCObservable><Info>1-1p3F2-ROT-3T2-21 312 n re<|Info><|MCObservable>', '<MCObservable><Info>1-1p3F2-ROT-3T2-21 412 n re<|Info><|MCObservable>', '<MCObservable><Info>1-1p3F2-ROT-3T2-21 512 n re<|Info><|MCObservable>', '<MCObservable><Info>1-1p3F2-ROT-3T2-21 612 n re<|Info><|MCObservable>', '<MCObservable><Info>1-1p3F2-ROT-3T2-21 712 n re<|Info><|MCObservable>', '<MCObservable><Info>1-1p3F2-ROT-4T2-25 112 n re<|Info><|MCObservable>', '<MCObservable><Info>1-1p3F2-ROT-4T2-25 12 n re<|Info><|MCObservable>', '<MCObservable><Info>1-1p3F2-ROT-4T2-25 212 n re<|Info><|MCObservable>', '<MCObservable><Info>1-1p3F2-ROT-4T2-25 312 n re<|Info><|MCObservable>', '<MCObservable><Info>1-1p3F2-ROT-4T2-25 412 n re<|Info><|MCObservable>', '<MCObservable><Info>1-1p3F2-ROT-4T2-25 512 n re<|Info><|MCObservable>', '<MCObservable><Info>1-1p3F2-ROT-4T2-25 612 n re<|Info><|MCObservable>', '<MCObservable><Info>1-1p3F2-ROT-4T2-25 712 n re<|Info><|MCObservable>', '<MCObservable><Info>1-1p3F2-ROT-5T2-25 112 n re<|Info><|MCObservable>', '<MCObservable><Info>1-1p3F2-ROT-5T2-25 12 n re<|Info><|MCObservable>', '<MCObservable><Info>1-1p3F2-ROT-5T2-25 212 n re<|Info><|MCObservable>', '<MCObservable><Info>1-1p3F2-ROT-5T2-25 312 n re<|Info><|MCObservable>', '<MCObservable><Info>1-1p3F2-ROT-5T2-25 412 n re<|Info><|MCObservable>', '<MCObservable><Info>1-1p3F2-ROT-5T2-25 512 n re<|Info><|MCObservable>', '<MCObservable><Info>1-1p3F2-ROT-5T2-25 612 n re<|Info><|MCObservable>', '<MCObservable><Info>1-1p3F2-ROT-5T2-25 712 n re<|Info><|MCObservable>', '<MCObservable><Info>1-1p3G-ROT-0T2-25 112 n re<|Info><|MCObservable>', '<MCObservable><Info>1-1p3G-ROT-0T2-25 12 n re<|Info><|MCObservable>', '<MCObservable><Info>1-1p3G-ROT-0T2-25 212 n re<|Info><|MCObservable>', '<MCObservable><Info>1-1p3G-ROT-0T2-25 312 n re<|Info><|MCObservable>', '<MCObservable><Info>1-1p3G-ROT-0T2-25 412 n re<|Info><|MCObservable>', '<MCObservable><Info>1-1p3G-ROT-0T2-25 512 n re<|Info><|MCObservable>', '<MCObservable><Info>1-1p3G-ROT-0T2-25 612 n re<|Info><|MCObservable>', '<MCObservable><Info>1-1p3G-ROT-0T2-25 712 n re<|Info><|MCObservable>', '<MCObservable><Info>1-1p3G-ROT-10T2-25 112 n re<|Info><|MCObservable>', '<MCObservable><Info>1-1p3G-ROT-10T2-25 12 n re<|Info><|MCObservable>', '<MCObservable><Info>1-1p3G-ROT-10T2-25 212 n re<|Info><|MCObservable>', '<MCObservable><Info>1-1p3G-ROT-10T2-25 312 n re<|Info><|MCObservable>', '<MCObservable><Info>1-1p3G-ROT-10T2-25 412 n re<|Info><|MCObservable>', '<MCObservable><Info>1-1p3G-ROT-10T2-25 512 n re<|Info><|MCObservable>', '<MCObservable><Info>1-1p3G-ROT-10T2-25 612 n re<|Info><|MCObservable>', '<MCObservable><Info>1-1p3G-ROT-10T2-25 712 n re<|Info><|MCObservable>', '<MCObservable><Info>1-1p3G-ROT-11T2-25 112 n re<|Info><|MCObservable>', '<MCObservable><Info>1-1p3G-ROT-11T2-25 12 n re<|Info><|MCObservable>', '<MCObservable><Info>1-1p3G-ROT-11T2-25 212 n re<|Info><|MCObservable>', '<MCObservable><Info>1-1p3G-ROT-11T2-25 312 n re<|Info><|MCObservable>', '<MCObservable><Info>1-1p3G-ROT-11T2-25 412 n re<|Info><|MCObservable>', '<MCObservable><Info>1-1p3G-ROT-11T2-25 512 n re<|Info><|MCObservable>', '<MCObservable><Info>1-1p3G-ROT-11T2-25 612 n re<|Info><|MCObservable>', '<MCObservable><Info>1-1p3G-ROT-11T2-25 712 n re<|Info><|MCObservable>', '<MCObservable><Info>1-1p3G-ROT-12T2-25 112 n re<|Info><|MCObservable>', '<MCObservable><Info>1-1p3G-ROT-12T2-25 12 n re<|Info><|MCObservable>', '<MCObservable><Info>1-1p3G-ROT-12T2-25 212 n re<|Info><|MCObservable>', '<MCObservable><Info>1-1p3G-ROT-12T2-25 312 n re<|Info><|MCObservable>', '<MCObservable><Info>1-1p3G-ROT-12T2-25 412 n re<|Info><|MCObservable>', '<MCObservable><Info>1-1p3G-ROT-12T2-25 512 n re<|Info><|MCObservable>', '<MCObservable><Info>1-1p3G-ROT-12T2-25 612 n re<|Info><|MCObservable>', '<MCObservable><Info>1-1p3G-ROT-12T2-25 712 n re<|Info><|MCObservable>', '<MCObservable><Info>1-1p3G-ROT-1T2-25 112 n re<|Info><|MCObservable>', '<MCObservable><Info>1-1p3G-ROT-1T2-25 12 n re<|Info><|MCObservable>', '<MCObservable><Info>1-1p3G-ROT-1T2-25 212 n re<|Info><|MCObservable>', '<MCObservable><Info>1-1p3G-ROT-1T2-25 312 n re<|Info><|MCObservable>', '<MCObservable><Info>1-1p3G-ROT-1T2-25 412 n re<|Info><|MCObservable>', '<MCObservable><Info>1-1p3G-ROT-1T2-25 512 n re<|Info><|MCObservable>', '<MCObservable><Info>1-1p3G-ROT-1T2-25 612 n re<|Info><|MCObservable>', '<MCObservable><Info>1-1p3G-ROT-1T2-25 712 n re<|Info><|MCObservable>', '<MCObservable><Info>1-1p3G-ROT-2T2-25 112 n re<|Info><|MCObservable>', '<MCObservable><Info>1-1p3G-ROT-2T2-25 12 n re<|Info><|MCObservable>', '<MCObservable><Info>1-1p3G-ROT-2T2-25 212 n re<|Info><|MCObservable>', '<MCObservable><Info>1-1p3G-ROT-2T2-25 312 n re<|Info><|MCObservable>', '<MCObservable><Info>1-1p3G-ROT-2T2-25 412 n re<|Info><|MCObservable>', '<MCObservable><Info>1-1p3G-ROT-2T2-25 512 n re<|Info><|MCObservable>', '<MCObservable><Info>1-1p3G-ROT-2T2-25 612 n re<|Info><|MCObservable>', '<MCObservable><Info>1-1p3G-ROT-2T2-25 712 n re<|Info><|MCObservable>', '<MCObservable><Info>1-1p3G-ROT-3T2-25 112 n re<|Info><|MCObservable>', '<MCObservable><Info>1-1p3G-ROT-3T2-25 12 n re<|Info><|MCObservable>', '<MCObservable><Info>1-1p3G-ROT-3T2-25 212 n re<|Info><|MCObservable>', '<MCObservable><Info>1-1p3G-ROT-3T2-25 312 n re<|Info><|MCObservable>', '<MCObservable><Info>1-1p3G-ROT-3T2-25 412 n re<|Info><|MCObservable>', '<MCObservable><Info>1-1p3G-ROT-3T2-25 512 n re<|Info><|MCObservable>', '<MCObservable><Info>1-1p3G-ROT-3T2-25 612 n re<|Info><|MCObservable>', '<MCObservable><Info>1-1p3G-ROT-3T2-25 712 n re<|Info><|MCObservable>', '<MCObservable><Info>1-1p3G-ROT-4T2-25 112 n re<|Info><|MCObservable>', '<MCObservable><Info>1-1p3G-ROT-4T2-25 12 n re<|Info><|MCObservable>', '<MCObservable><Info>1-1p3G-ROT-4T2-25 212 n re<|Info><|MCObservable>', '<MCObservable><Info>1-1p3G-ROT-4T2-25 312 n re<|Info><|MCObservable>', '<MCObservable><Info>1-1p3G-ROT-4T2-25 412 n re<|Info><|MCObservable>', '<MCObservable><Info>1-1p3G-ROT-4T2-25 512 n re<|Info><|MCObservable>', '<MCObservable><Info>1-1p3G-ROT-4T2-25 612 n re<|Info><|MCObservable>', '<MCObservable><Info>1-1p3G-ROT-4T2-25 712 n re<|Info><|MCObservable>', '<MCObservable><Info>1-1p3G-ROT-5T2-25 112 n re<|Info><|MCObservable>', '<MCObservable><Info>1-1p3G-ROT-5T2-25 12 n re<|Info><|MCObservable>', '<MCObservable><Info>1-1p3G-ROT-5T2-25 212 n re<|Info><|MCObservable>', '<MCObservable><Info>1-1p3G-ROT-5T2-25 312 n re<|Info><|MCObservable>', '<MCObservable><Info>1-1p3G-ROT-5T2-25 412 n re<|Info><|MCObservable>', '<MCObservable><Info>1-1p3G-ROT-5T2-25 512 n re<|Info><|MCObservable>', '<MCObservable><Info>1-1p3G-ROT-5T2-25 612 n re<|Info><|MCObservable>', '<MCObservable><Info>1-1p3G-ROT-5T2-25 712 n re<|Info><|MCObservable>', '<MCObservable><Info>1-1p3G-ROT-6T2-25 112 n re<|Info><|MCObservable>', '<MCObservable><Info>1-1p3G-ROT-6T2-25 12 n re<|Info><|MCObservable>', '<MCObservable><Info>1-1p3G-ROT-6T2-25 212 n re<|Info><|MCObservable>', '<MCObservable><Info>1-1p3G-ROT-6T2-25 312 n re<|Info><|MCObservable>', '<MCObservable><Info>1-1p3G-ROT-6T2-25 412 n re<|Info><|MCObservable>', '<MCObservable><Info>1-1p3G-ROT-6T2-25 512 n re<|Info><|MCObservable>', '<MCObservable><Info>1-1p3G-ROT-6T2-25 612 n re<|Info><|MCObservable>', '<MCObservable><Info>1-1p3G-ROT-6T2-25 712 n re<|Info><|MCObservable>', '<MCObservable><Info>1-1p3G-ROT-7T2-25 112 n re<|Info><|MCObservable>', '<MCObservable><Info>1-1p3G-ROT-7T2-25 12 n re<|Info><|MCObservable>', '<MCObservable><Info>1-1p3G-ROT-7T2-25 212 n re<|Info><|MCObservable>', '<MCObservable><Info>1-1p3G-ROT-7T2-25 312 n re<|Info><|MCObservable>', '<MCObservable><Info>1-1p3G-ROT-7T2-25 412 n re<|Info><|MCObservable>', '<MCObservable><Info>1-1p3G-ROT-7T2-25 512 n re<|Info><|MCObservable>', '<MCObservable><Info>1-1p3G-ROT-7T2-25 612 n re<|Info><|MCObservable>', '<MCObservable><Info>1-1p3G-ROT-7T2-25 712 n re<|Info><|MCObservable>', '<MCObservable><Info>1-1p3G-ROT-8T2-25 112 n re<|Info><|MCObservable>', '<MCObservable><Info>1-1p3G-ROT-8T2-25 12 n re<|Info><|MCObservable>', '<MCObservable><Info>1-1p3G-ROT-8T2-25 212 n re<|Info><|MCObservable>', '<MCObservable><Info>1-1p3G-ROT-8T2-25 312 n re<|Info><|MCObservable>', '<MCObservable><Info>1-1p3G-ROT-8T2-25 412 n re<|Info><|MCObservable>', '<MCObservable><Info>1-1p3G-ROT-8T2-25 512 n re<|Info><|MCObservable>', '<MCObservable><Info>1-1p3G-ROT-8T2-25 612 n re<|Info><|MCObservable>', '<MCObservable><Info>1-1p3G-ROT-8T2-25 712 n re<|Info><|MCObservable>', '<MCObservable><Info>1-1p3G-ROT-9T2-25 112 n re<|Info><|MCObservable>', '<MCObservable><Info>1-1p3G-ROT-9T2-25 12 n re<|Info><|MCObservable>', '<MCObservable><Info>1-1p3G-ROT-9T2-25 212 n re<|Info><|MCObservable>', '<MCObservable><Info>1-1p3G-ROT-9T2-25 312 n re<|Info><|MCObservable>', '<MCObservable><Info>1-1p3G-ROT-9T2-25 412 n re<|Info><|MCObservable>', '<MCObservable><Info>1-1p3G-ROT-9T2-25 512 n re<|Info><|MCObservable>', '<MCObservable><Info>1-1p3G-ROT-9T2-25 612 n re<|Info><|MCObservable>', '<MCObservable><Info>1-1p3G-ROT-9T2-25 712 n re<|Info><|MCObservable>', '<MCObservable><Info>2-1000A1u-k[SS0]-0T2-25 112 n re<|Info><|MCObservable>', '<MCObservable><Info>2-1000A1u-k[SS0]-0T2-25 12 n re<|Info><|MCObservable>', '<MCObservable><Info>2-1000A1u-k[SS0]-0T2-25 212 n re<|Info><|MCObservable>', '<MCObservable><Info>2-1000A1u-k[SS0]-0T2-25 312 n re<|Info><|MCObservable>', '<MCObservable><Info>2-1000A1u-k[SS0]-0T2-25 412 n re<|Info><|MCObservable>', '<MCObservable><Info>2-1000A1u-k[SS0]-0T2-25 512 n re<|Info><|MCObservable>', '<MCObservable><Info>2-1000A1u-k[SS0]-0T2-25 612 n re<|Info><|MCObservable>', '<MCObservable><Info>2-1000A1u-k[SS0]-0T2-25 712 n re<|Info><|MCObservable>', '<MCObservable><Info>2-1p1A2-k[SS1]-0T2-25 112 n re<|Info><|MCObservable>', '<MCObservable><Info>2-1p1A2-k[SS1]-0T2-25 12 n re<|Info><|MCObservable>', '<MCObservable><Info>2-1p1A2-k[SS1]-0T2-25 212 n re<|Info><|MCObservable>', '<MCObservable><Info>2-1p1A2-k[SS1]-0T2-25 312 n re<|Info><|MCObservable>', '<MCObservable><Info>2-1p1A2-k[SS1]-0T2-25 412 n re<|Info><|MCObservable>', '<MCObservable><Info>2-1p1A2-k[SS1]-0T2-25 512 n re<|Info><|MCObservable>', '<MCObservable><Info>2-1p1A2-k[SS1]-0T2-25 612 n re<|Info><|MCObservable>', '<MCObservable><Info>2-1p1A2-k[SS1]-0T2-25 712 n re<|Info><|MCObservable>', '<MCObservable><Info>2-1p2A2-k[SS0]-0T2-25 112 n re<|Info><|MCObservable>', '<MCObservable><Info>2-1p2A2-k[SS0]-0T2-25 12 n re<|Info><|MCObservable>', '<MCObservable><Info>2-1p2A2-k[SS0]-0T2-25 212 n re<|Info><|MCObservable>', '<MCObservable><Info>2-1p2A2-k[SS0]-0T2-25 312 n re<|Info><|MCObservable>', '<MCObservable><Info>2-1p2A2-k[SS0]-0T2-25 412 n re<|Info><|MCObservable>', '<MCObservable><Info>2-1p2A2-k[SS0]-0T2-25 512 n re<|Info><|MCObservable>', '<MCObservable><Info>2-1p2A2-k[SS0]-0T2-25 612 n re<|Info><|MCObservable>', '<MCObservable><Info>2-1p2A2-k[SS0]-0T2-25 712 n re<|Info><|MCObservable>', '<MCObservable><Info>2-1p3A2-k[SS0]-0T2-25 112 n re<|Info><|MCObservable>', '<MCObservable><Info>2-1p3A2-k[SS0]-0T2-25 12 n re<|Info><|MCObservable>', '<MCObservable><Info>2-1p3A2-k[SS0]-0T2-25 212 n re<|Info><|MCObservable>', '<MCObservable><Info>2-1p3A2-k[SS0]-0T2-25 312 n re<|Info><|MCObservable>', '<MCObservable><Info>2-1p3A2-k[SS0]-0T2-25 412 n re<|Info><|MCObservable>', '<MCObservable><Info>2-1p3A2-k[SS0]-0T2-25 512 n re<|Info><|MCObservable>', '<MCObservable><Info>2-1p3A2-k[SS0]-0T2-25 612 n re<|Info><|MCObservable>', '<MCObservable><Info>2-1p3A2-k[SS0]-0T2-25 712 n re<|Info><|MCObservable>', '<MCObservable><Info>2-1p4A2-k[SS1]-0T2-25 112 n re<|Info><|MCObservable>', '<MCObservable><Info>2-1p4A2-k[SS1]-0T2-25 12 n re<|Info><|MCObservable>', '<MCObservable><Info>2-1p4A2-k[SS1]-0T2-25 212 n re<|Info><|MCObservable>', '<MCObservable><Info>2-1p4A2-k[SS1]-0T2-25 312 n re<|Info><|MCObservable>', '<MCObservable><Info>2-1p4A2-k[SS1]-0T2-25 412 n re<|Info><|MCObservable>', '<MCObservable><Info>2-1p4A2-k[SS1]-0T2-25 512 n re<|Info><|MCObservable>', '<MCObservable><Info>2-1p4A2-k[SS1]-0T2-25 612 n re<|Info><|MCObservable>', '<MCObservable><Info>2-1p4A2-k[SS1]-0T2-25 712 n re<|Info><|MCObservable>', '<MCObservable><Info>2-2000G1g-X[SS0]-0T2-25 112 n re<|Info><|MCObservable>', '<MCObservable><Info>2-2000G1g-X[SS0]-0T2-25 12 n re<|Info><|MCObservable>', '<MCObservable><Info>2-2000G1g-X[SS0]-0T2-25 212 n re<|Info><|MCObservable>', '<MCObservable><Info>2-2000G1g-X[SS0]-0T2-25 312 n re<|Info><|MCObservable>', '<MCObservable><Info>2-2000G1g-X[SS0]-0T2-25 412 n re<|Info><|MCObservable>', '<MCObservable><Info>2-2000G1g-X[SS0]-0T2-25 512 n re<|Info><|MCObservable>', '<MCObservable><Info>2-2000G1g-X[SS0]-0T2-25 612 n re<|Info><|MCObservable>', '<MCObservable><Info>2-2000G1g-X[SS0]-0T2-25 712 n re<|Info><|MCObservable>', '<MCObservable><Info>20000G1g-N[SS0]-0T2-25 112 n re<|Info><|MCObservable>', '<MCObservable><Info>20000G1g-N[SS0]-0T2-25 12 n re<|Info><|MCObservable>', '<MCObservable><Info>20000G1g-N[SS0]-0T2-25 212 n re<|Info><|MCObservable>', '<MCObservable><Info>20000G1g-N[SS0]-0T2-25 312 n re<|Info><|MCObservable>', '<MCObservable><Info>20000G1g-N[SS0]-0T2-25 412 n re<|Info><|MCObservable>', '<MCObservable><Info>20000G1g-N[SS0]-0T2-25 512 n re<|Info><|MCObservable>', '<MCObservable><Info>20000G1g-N[SS0]-0T2-25 612 n re<|Info><|MCObservable>', '<MCObservable><Info>20000G1g-N[SS0]-0T2-25 712 n re<|Info><|MCObservable>', '<MCObservable><Info>20p1G1-N[SS0]-0T2-25 112 n re<|Info><|MCObservable>', '<MCObservable><Info>20p1G1-N[SS0]-0T2-25 12 n re<|Info><|MCObservable>', '<MCObservable><Info>20p1G1-N[SS0]-0T2-25 212 n re<|Info><|MCObservable>', '<MCObservable><Info>20p1G1-N[SS0]-0T2-25 312 n re<|Info><|MCObservable>', '<MCObservable><Info>20p1G1-N[SS0]-0T2-25 412 n re<|Info><|MCObservable>', '<MCObservable><Info>20p1G1-N[SS0]-0T2-25 512 n re<|Info><|MCObservable>', '<MCObservable><Info>20p1G1-N[SS0]-0T2-25 612 n re<|Info><|MCObservable>', '<MCObservable><Info>20p1G1-N[SS0]-0T2-25 712 n re<|Info><|MCObservable>', '<MCObservable><Info>20p2G-N[SS0]-0T2-25 112 n re<|Info><|MCObservable>', '<MCObservable><Info>20p2G-N[SS0]-0T2-25 12 n re<|Info><|MCObservable>', '<MCObservable><Info>20p2G-N[SS0]-0T2-25 212 n re<|Info><|MCObservable>', '<MCObservable><Info>20p2G-N[SS0]-0T2-25 312 n re<|Info><|MCObservable>', '<MCObservable><Info>20p2G-N[SS0]-0T2-25 412 n re<|Info><|MCObservable>', '<MCObservable><Info>20p2G-N[SS0]-0T2-25 512 n re<|Info><|MCObservable>', '<MCObservable><Info>20p2G-N[SS0]-0T2-25 612 n re<|Info><|MCObservable>', '<MCObservable><Info>20p2G-N[SS0]-0T2-25 712 n re<|Info><|MCObservable>', '<MCObservable><Info>20p3G-N[SS0]-0T2-25 112 n re<|Info><|MCObservable>', '<MCObservable><Info>20p3G-N[SS0]-0T2-25 12 n re<|Info><|MCObservable>', '<MCObservable><Info>20p3G-N[SS0]-0T2-25 212 n re<|Info><|MCObservable>', '<MCObservable><Info>20p3G-N[SS0]-0T2-25 312 n re<|Info><|MCObservable>', '<MCObservable><Info>20p3G-N[SS0]-0T2-25 412 n re<|Info><|MCObservable>', '<MCObservable><Info>20p3G-N[SS0]-0T2-25 512 n re<|Info><|MCObservable>', '<MCObservable><Info>20p3G-N[SS0]-0T2-25 612 n re<|Info><|MCObservable>', '<MCObservable><Info>20p3G-N[SS0]-0T2-25 712 n re<|Info><|MCObservable>', '<MCObservable><Info>3-1000G1g-S[SS0]-0T2-25 112 n re<|Info><|MCObservable>', '<MCObservable><Info>3-1000G1g-S[SS0]-0T2-25 12 n re<|Info><|MCObservable>', '<MCObservable><Info>3-1000G1g-S[SS0]-0T2-25 212 n re<|Info><|MCObservable>', '<MCObservable><Info>3-1000G1g-S[SS0]-0T2-25 312 n re<|Info><|MCObservable>', '<MCObservable><Info>3-1000G1g-S[SS0]-0T2-25 412 n re<|Info><|MCObservable>', '<MCObservable><Info>3-1000G1g-S[SS0]-0T2-25 512 n re<|Info><|MCObservable>', '<MCObservable><Info>3-1000G1g-S[SS0]-0T2-25 612 n re<|Info><|MCObservable>', '<MCObservable><Info>3-1000G1g-S[SS0]-0T2-25 712 n re<|Info><|MCObservable>', '<MCObservable><Info>3-1p1G1-S[SS0]-0T2-25 112 n re<|Info><|MCObservable>', '<MCObservable><Info>3-1p1G1-S[SS0]-0T2-25 12 n re<|Info><|MCObservable>', '<MCObservable><Info>3-1p1G1-S[SS0]-0T2-25 212 n re<|Info><|MCObservable>', '<MCObservable><Info>3-1p1G1-S[SS0]-0T2-25 312 n re<|Info><|MCObservable>', '<MCObservable><Info>3-1p1G1-S[SS0]-0T2-25 412 n re<|Info><|MCObservable>', '<MCObservable><Info>3-1p1G1-S[SS0]-0T2-25 512 n re<|Info><|MCObservable>', '<MCObservable><Info>3-1p1G1-S[SS0]-0T2-25 612 n re<|Info><|MCObservable>', '<MCObservable><Info>3-1p1G1-S[SS0]-0T2-25 712 n re<|Info><|MCObservable>', '<MCObservable><Info>3-1p2G-S[SS0]-0T2-25 112 n re<|Info><|MCObservable>', '<MCObservable><Info>3-1p2G-S[SS0]-0T2-25 12 n re<|Info><|MCObservable>', '<MCObservable><Info>3-1p2G-S[SS0]-0T2-25 212 n re<|Info><|MCObservable>', '<MCObservable><Info>3-1p2G-S[SS0]-0T2-25 312 n re<|Info><|MCObservable>', '<MCObservable><Info>3-1p2G-S[SS0]-0T2-25 412 n re<|Info><|MCObservable>', '<MCObservable><Info>3-1p2G-S[SS0]-0T2-25 512 n re<|Info><|MCObservable>', '<MCObservable><Info>3-1p2G-S[SS0]-0T2-25 612 n re<|Info><|MCObservable>', '<MCObservable><Info>3-1p2G-S[SS0]-0T2-25 712 n re<|Info><|MCObservable>', '<MCObservable><Info>3-1p3G-S[SS0]-0T2-25 112 n re<|Info><|MCObservable>', '<MCObservable><Info>3-1p3G-S[SS0]-0T2-25 12 n re<|Info><|MCObservable>', '<MCObservable><Info>3-1p3G-S[SS0]-0T2-25 212 n re<|Info><|MCObservable>', '<MCObservable><Info>3-1p3G-S[SS0]-0T2-25 312 n re<|Info><|MCObservable>', '<MCObservable><Info>3-1p3G-S[SS0]-0T2-25 412 n re<|Info><|MCObservable>', '<MCObservable><Info>3-1p3G-S[SS0]-0T2-25 512 n re<|Info><|MCObservable>', '<MCObservable><Info>3-1p3G-S[SS0]-0T2-25 612 n re<|Info><|MCObservable>', '<MCObservable><Info>3-1p3G-S[SS0]-0T2-25 712 n re<|Info><|MCObservable>', '<MCObservable><Info>30p1A2m-P[SS1]-0T2-25 112 n re<|Info><|MCObservable>', '<MCObservable><Info>30p1A2m-P[SS1]-0T2-25 12 n re<|Info><|MCObservable>', '<MCObservable><Info>30p1A2m-P[SS1]-0T2-25 212 n re<|Info><|MCObservable>', '<MCObservable><Info>30p1A2m-P[SS1]-0T2-25 312 n re<|Info><|MCObservable>', '<MCObservable><Info>30p1A2m-P[SS1]-0T2-25 412 n re<|Info><|MCObservable>', '<MCObservable><Info>30p1A2m-P[SS1]-0T2-25 512 n re<|Info><|MCObservable>', '<MCObservable><Info>30p1A2m-P[SS1]-0T2-25 612 n re<|Info><|MCObservable>', '<MCObservable><Info>30p1A2m-P[SS1]-0T2-25 712 n re<|Info><|MCObservable>', '<MCObservable><Info>30p2A2m-P[SS0]-0T2-25 112 n re<|Info><|MCObservable>', '<MCObservable><Info>30p2A2m-P[SS0]-0T2-25 12 n re<|Info><|MCObservable>', '<MCObservable><Info>30p2A2m-P[SS0]-0T2-25 212 n re<|Info><|MCObservable>', '<MCObservable><Info>30p2A2m-P[SS0]-0T2-25 312 n re<|Info><|MCObservable>', '<MCObservable><Info>30p2A2m-P[SS0]-0T2-25 412 n re<|Info><|MCObservable>', '<MCObservable><Info>30p2A2m-P[SS0]-0T2-25 512 n re<|Info><|MCObservable>', '<MCObservable><Info>30p2A2m-P[SS0]-0T2-25 612 n re<|Info><|MCObservable>', '<MCObservable><Info>30p2A2m-P[SS0]-0T2-25 712 n re<|Info><|MCObservable>', '<MCObservable><Info>30p3A2m-P[SS0]-0T2-25 112 n re<|Info><|MCObservable>', '<MCObservable><Info>30p3A2m-P[SS0]-0T2-25 12 n re<|Info><|MCObservable>', '<MCObservable><Info>30p3A2m-P[SS0]-0T2-25 212 n re<|Info><|MCObservable>', '<MCObservable><Info>30p3A2m-P[SS0]-0T2-25 312 n re<|Info><|MCObservable>', '<MCObservable><Info>30p3A2m-P[SS0]-0T2-25 412 n re<|Info><|MCObservable>', '<MCObservable><Info>30p3A2m-P[SS0]-0T2-25 512 n re<|Info><|MCObservable>', '<MCObservable><Info>30p3A2m-P[SS0]-0T2-25 612 n re<|Info><|MCObservable>', '<MCObservable><Info>30p3A2m-P[SS0]-0T2-25 712 n re<|Info><|MCObservable>']>\n"
     ]
    }
   ],
   "source": [
    "hdf5_data = h5py.File(\"param_samplings_isosinglet_strange_fermionic_multi_rebin10.hdf5\",\"r\")\n",
    "print(hdf5_data['params']['Values'].keys() )\n",
    "hdf5_data.close()"
   ]
  },
  {
   "cell_type": "code",
   "execution_count": 8,
   "metadata": {},
   "outputs": [],
   "source": [
    "\n",
    "hdf5_data.close()"
   ]
  },
  {
   "cell_type": "code",
   "execution_count": null,
   "metadata": {},
   "outputs": [],
   "source": []
  }
 ],
 "metadata": {
  "kernelspec": {
   "display_name": "Python 3",
   "language": "python",
   "name": "python3"
  },
  "language_info": {
   "codemirror_mode": {
    "name": "ipython",
    "version": 3
   },
   "file_extension": ".py",
   "mimetype": "text/x-python",
   "name": "python",
   "nbconvert_exporter": "python",
   "pygments_lexer": "ipython3",
   "version": "3.8.5"
  }
 },
 "nbformat": 4,
 "nbformat_minor": 4
}
